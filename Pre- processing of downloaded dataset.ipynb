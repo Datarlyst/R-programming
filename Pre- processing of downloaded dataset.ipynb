{
 "cells": [
  {
   "cell_type": "markdown",
   "id": "6671a8ac",
   "metadata": {},
   "source": [
    "## LOADING THE DOWNLOADED DATASET"
   ]
  },
  {
   "cell_type": "code",
   "execution_count": 1,
   "id": "a97304da",
   "metadata": {
    "scrolled": false
   },
   "outputs": [
    {
     "name": "stderr",
     "output_type": "stream",
     "text": [
      "-- \u001b[1mAttaching packages\u001b[22m --------------------------------------- tidyverse 1.3.1 --\n",
      "\n",
      "\u001b[32mv\u001b[39m \u001b[34mggplot2\u001b[39m 3.3.6     \u001b[32mv\u001b[39m \u001b[34mpurrr  \u001b[39m 0.3.4\n",
      "\u001b[32mv\u001b[39m \u001b[34mtibble \u001b[39m 3.1.7     \u001b[32mv\u001b[39m \u001b[34mdplyr  \u001b[39m 1.0.9\n",
      "\u001b[32mv\u001b[39m \u001b[34mtidyr  \u001b[39m 1.2.0     \u001b[32mv\u001b[39m \u001b[34mstringr\u001b[39m 1.4.0\n",
      "\u001b[32mv\u001b[39m \u001b[34mreadr  \u001b[39m 2.1.2     \u001b[32mv\u001b[39m \u001b[34mforcats\u001b[39m 0.5.1\n",
      "\n",
      "-- \u001b[1mConflicts\u001b[22m ------------------------------------------ tidyverse_conflicts() --\n",
      "\u001b[31mx\u001b[39m \u001b[34mdplyr\u001b[39m::\u001b[32mfilter()\u001b[39m masks \u001b[34mstats\u001b[39m::filter()\n",
      "\u001b[31mx\u001b[39m \u001b[34mdplyr\u001b[39m::\u001b[32mlag()\u001b[39m    masks \u001b[34mstats\u001b[39m::lag()\n",
      "\n"
     ]
    }
   ],
   "source": [
    "# INSTALLING THE REQUIRED PACKAGES\n",
    "library(\"tidyverse\")"
   ]
  },
  {
   "cell_type": "code",
   "execution_count": 2,
   "id": "a5679be3",
   "metadata": {},
   "outputs": [
    {
     "name": "stderr",
     "output_type": "stream",
     "text": [
      "\u001b[1mRows: \u001b[22m\u001b[34m85171\u001b[39m \u001b[1mColumns: \u001b[22m\u001b[34m59\u001b[39m\n",
      "\u001b[36m--\u001b[39m \u001b[1mColumn specification\u001b[22m \u001b[36m--------------------------------------------------------\u001b[39m\n",
      "\u001b[1mDelimiter:\u001b[22m \",\"\n",
      "\u001b[31mchr\u001b[39m  (5): iso_code, continent, location, date, tests_units\n",
      "\u001b[32mdbl\u001b[39m (54): total_cases, new_cases, new_cases_smoothed, total_deaths, new_deat...\n",
      "\n",
      "\u001b[36mi\u001b[39m Use `spec()` to retrieve the full column specification for this data.\n",
      "\u001b[36mi\u001b[39m Specify the column types or set `show_col_types = FALSE` to quiet this message.\n"
     ]
    }
   ],
   "source": [
    "# lOADING THE DATASET USING read_csv()\n",
    "covid <- read_csv(\"CovidDeaths.csv\")"
   ]
  },
  {
   "cell_type": "code",
   "execution_count": 3,
   "id": "c8ecb81b",
   "metadata": {
    "scrolled": false
   },
   "outputs": [
    {
     "data": {
      "text/html": [
       "<table class=\"dataframe\">\n",
       "<caption>A tibble: 6 × 59</caption>\n",
       "<thead>\n",
       "\t<tr><th scope=col>iso_code</th><th scope=col>continent</th><th scope=col>location</th><th scope=col>date</th><th scope=col>total_cases</th><th scope=col>new_cases</th><th scope=col>new_cases_smoothed</th><th scope=col>total_deaths</th><th scope=col>new_deaths</th><th scope=col>new_deaths_smoothed</th><th scope=col>⋯</th><th scope=col>gdp_per_capita</th><th scope=col>extreme_poverty</th><th scope=col>cardiovasc_death_rate</th><th scope=col>diabetes_prevalence</th><th scope=col>female_smokers</th><th scope=col>male_smokers</th><th scope=col>handwashing_facilities</th><th scope=col>hospital_beds_per_thousand</th><th scope=col>life_expectancy</th><th scope=col>human_development_index</th></tr>\n",
       "\t<tr><th scope=col>&lt;chr&gt;</th><th scope=col>&lt;chr&gt;</th><th scope=col>&lt;chr&gt;</th><th scope=col>&lt;chr&gt;</th><th scope=col>&lt;dbl&gt;</th><th scope=col>&lt;dbl&gt;</th><th scope=col>&lt;dbl&gt;</th><th scope=col>&lt;dbl&gt;</th><th scope=col>&lt;dbl&gt;</th><th scope=col>&lt;dbl&gt;</th><th scope=col>⋯</th><th scope=col>&lt;dbl&gt;</th><th scope=col>&lt;dbl&gt;</th><th scope=col>&lt;dbl&gt;</th><th scope=col>&lt;dbl&gt;</th><th scope=col>&lt;dbl&gt;</th><th scope=col>&lt;dbl&gt;</th><th scope=col>&lt;dbl&gt;</th><th scope=col>&lt;dbl&gt;</th><th scope=col>&lt;dbl&gt;</th><th scope=col>&lt;dbl&gt;</th></tr>\n",
       "</thead>\n",
       "<tbody>\n",
       "\t<tr><td>AFG</td><td>Asia</td><td>Afghanistan</td><td>2/24/2020</td><td>1</td><td>1</td><td>   NA</td><td>NA</td><td>NA</td><td>NA</td><td>⋯</td><td>1803.987</td><td>NA</td><td>597.029</td><td>9.59</td><td>NA</td><td>NA</td><td>37.746</td><td>0.5</td><td>64.83</td><td>0.511</td></tr>\n",
       "\t<tr><td>AFG</td><td>Asia</td><td>Afghanistan</td><td>2/25/2020</td><td>1</td><td>0</td><td>   NA</td><td>NA</td><td>NA</td><td>NA</td><td>⋯</td><td>1803.987</td><td>NA</td><td>597.029</td><td>9.59</td><td>NA</td><td>NA</td><td>37.746</td><td>0.5</td><td>64.83</td><td>0.511</td></tr>\n",
       "\t<tr><td>AFG</td><td>Asia</td><td>Afghanistan</td><td>2/26/2020</td><td>1</td><td>0</td><td>   NA</td><td>NA</td><td>NA</td><td>NA</td><td>⋯</td><td>1803.987</td><td>NA</td><td>597.029</td><td>9.59</td><td>NA</td><td>NA</td><td>37.746</td><td>0.5</td><td>64.83</td><td>0.511</td></tr>\n",
       "\t<tr><td>AFG</td><td>Asia</td><td>Afghanistan</td><td>2/27/2020</td><td>1</td><td>0</td><td>   NA</td><td>NA</td><td>NA</td><td>NA</td><td>⋯</td><td>1803.987</td><td>NA</td><td>597.029</td><td>9.59</td><td>NA</td><td>NA</td><td>37.746</td><td>0.5</td><td>64.83</td><td>0.511</td></tr>\n",
       "\t<tr><td>AFG</td><td>Asia</td><td>Afghanistan</td><td>2/28/2020</td><td>1</td><td>0</td><td>   NA</td><td>NA</td><td>NA</td><td>NA</td><td>⋯</td><td>1803.987</td><td>NA</td><td>597.029</td><td>9.59</td><td>NA</td><td>NA</td><td>37.746</td><td>0.5</td><td>64.83</td><td>0.511</td></tr>\n",
       "\t<tr><td>AFG</td><td>Asia</td><td>Afghanistan</td><td>2/29/2020</td><td>1</td><td>0</td><td>0.143</td><td>NA</td><td>NA</td><td> 0</td><td>⋯</td><td>1803.987</td><td>NA</td><td>597.029</td><td>9.59</td><td>NA</td><td>NA</td><td>37.746</td><td>0.5</td><td>64.83</td><td>0.511</td></tr>\n",
       "</tbody>\n",
       "</table>\n"
      ],
      "text/latex": [
       "A tibble: 6 × 59\n",
       "\\begin{tabular}{lllllllllllllllllllll}\n",
       " iso\\_code & continent & location & date & total\\_cases & new\\_cases & new\\_cases\\_smoothed & total\\_deaths & new\\_deaths & new\\_deaths\\_smoothed & ⋯ & gdp\\_per\\_capita & extreme\\_poverty & cardiovasc\\_death\\_rate & diabetes\\_prevalence & female\\_smokers & male\\_smokers & handwashing\\_facilities & hospital\\_beds\\_per\\_thousand & life\\_expectancy & human\\_development\\_index\\\\\n",
       " <chr> & <chr> & <chr> & <chr> & <dbl> & <dbl> & <dbl> & <dbl> & <dbl> & <dbl> & ⋯ & <dbl> & <dbl> & <dbl> & <dbl> & <dbl> & <dbl> & <dbl> & <dbl> & <dbl> & <dbl>\\\\\n",
       "\\hline\n",
       "\t AFG & Asia & Afghanistan & 2/24/2020 & 1 & 1 &    NA & NA & NA & NA & ⋯ & 1803.987 & NA & 597.029 & 9.59 & NA & NA & 37.746 & 0.5 & 64.83 & 0.511\\\\\n",
       "\t AFG & Asia & Afghanistan & 2/25/2020 & 1 & 0 &    NA & NA & NA & NA & ⋯ & 1803.987 & NA & 597.029 & 9.59 & NA & NA & 37.746 & 0.5 & 64.83 & 0.511\\\\\n",
       "\t AFG & Asia & Afghanistan & 2/26/2020 & 1 & 0 &    NA & NA & NA & NA & ⋯ & 1803.987 & NA & 597.029 & 9.59 & NA & NA & 37.746 & 0.5 & 64.83 & 0.511\\\\\n",
       "\t AFG & Asia & Afghanistan & 2/27/2020 & 1 & 0 &    NA & NA & NA & NA & ⋯ & 1803.987 & NA & 597.029 & 9.59 & NA & NA & 37.746 & 0.5 & 64.83 & 0.511\\\\\n",
       "\t AFG & Asia & Afghanistan & 2/28/2020 & 1 & 0 &    NA & NA & NA & NA & ⋯ & 1803.987 & NA & 597.029 & 9.59 & NA & NA & 37.746 & 0.5 & 64.83 & 0.511\\\\\n",
       "\t AFG & Asia & Afghanistan & 2/29/2020 & 1 & 0 & 0.143 & NA & NA &  0 & ⋯ & 1803.987 & NA & 597.029 & 9.59 & NA & NA & 37.746 & 0.5 & 64.83 & 0.511\\\\\n",
       "\\end{tabular}\n"
      ],
      "text/markdown": [
       "\n",
       "A tibble: 6 × 59\n",
       "\n",
       "| iso_code &lt;chr&gt; | continent &lt;chr&gt; | location &lt;chr&gt; | date &lt;chr&gt; | total_cases &lt;dbl&gt; | new_cases &lt;dbl&gt; | new_cases_smoothed &lt;dbl&gt; | total_deaths &lt;dbl&gt; | new_deaths &lt;dbl&gt; | new_deaths_smoothed &lt;dbl&gt; | ⋯ ⋯ | gdp_per_capita &lt;dbl&gt; | extreme_poverty &lt;dbl&gt; | cardiovasc_death_rate &lt;dbl&gt; | diabetes_prevalence &lt;dbl&gt; | female_smokers &lt;dbl&gt; | male_smokers &lt;dbl&gt; | handwashing_facilities &lt;dbl&gt; | hospital_beds_per_thousand &lt;dbl&gt; | life_expectancy &lt;dbl&gt; | human_development_index &lt;dbl&gt; |\n",
       "|---|---|---|---|---|---|---|---|---|---|---|---|---|---|---|---|---|---|---|---|---|\n",
       "| AFG | Asia | Afghanistan | 2/24/2020 | 1 | 1 |    NA | NA | NA | NA | ⋯ | 1803.987 | NA | 597.029 | 9.59 | NA | NA | 37.746 | 0.5 | 64.83 | 0.511 |\n",
       "| AFG | Asia | Afghanistan | 2/25/2020 | 1 | 0 |    NA | NA | NA | NA | ⋯ | 1803.987 | NA | 597.029 | 9.59 | NA | NA | 37.746 | 0.5 | 64.83 | 0.511 |\n",
       "| AFG | Asia | Afghanistan | 2/26/2020 | 1 | 0 |    NA | NA | NA | NA | ⋯ | 1803.987 | NA | 597.029 | 9.59 | NA | NA | 37.746 | 0.5 | 64.83 | 0.511 |\n",
       "| AFG | Asia | Afghanistan | 2/27/2020 | 1 | 0 |    NA | NA | NA | NA | ⋯ | 1803.987 | NA | 597.029 | 9.59 | NA | NA | 37.746 | 0.5 | 64.83 | 0.511 |\n",
       "| AFG | Asia | Afghanistan | 2/28/2020 | 1 | 0 |    NA | NA | NA | NA | ⋯ | 1803.987 | NA | 597.029 | 9.59 | NA | NA | 37.746 | 0.5 | 64.83 | 0.511 |\n",
       "| AFG | Asia | Afghanistan | 2/29/2020 | 1 | 0 | 0.143 | NA | NA |  0 | ⋯ | 1803.987 | NA | 597.029 | 9.59 | NA | NA | 37.746 | 0.5 | 64.83 | 0.511 |\n",
       "\n"
      ],
      "text/plain": [
       "  iso_code continent location    date      total_cases new_cases\n",
       "1 AFG      Asia      Afghanistan 2/24/2020 1           1        \n",
       "2 AFG      Asia      Afghanistan 2/25/2020 1           0        \n",
       "3 AFG      Asia      Afghanistan 2/26/2020 1           0        \n",
       "4 AFG      Asia      Afghanistan 2/27/2020 1           0        \n",
       "5 AFG      Asia      Afghanistan 2/28/2020 1           0        \n",
       "6 AFG      Asia      Afghanistan 2/29/2020 1           0        \n",
       "  new_cases_smoothed total_deaths new_deaths new_deaths_smoothed <U+22EF>       \n",
       "1    NA              NA           NA         NA                  <U+22EF>\n",
       "2    NA              NA           NA         NA                  <U+22EF>\n",
       "3    NA              NA           NA         NA                  <U+22EF>\n",
       "4    NA              NA           NA         NA                  <U+22EF>\n",
       "5    NA              NA           NA         NA                  <U+22EF>\n",
       "6 0.143              NA           NA          0                  <U+22EF>\n",
       "  gdp_per_capita extreme_poverty cardiovasc_death_rate diabetes_prevalence\n",
       "1 1803.987       NA              597.029               9.59               \n",
       "2 1803.987       NA              597.029               9.59               \n",
       "3 1803.987       NA              597.029               9.59               \n",
       "4 1803.987       NA              597.029               9.59               \n",
       "5 1803.987       NA              597.029               9.59               \n",
       "6 1803.987       NA              597.029               9.59               \n",
       "  female_smokers male_smokers handwashing_facilities hospital_beds_per_thousand\n",
       "1 NA             NA           37.746                 0.5                       \n",
       "2 NA             NA           37.746                 0.5                       \n",
       "3 NA             NA           37.746                 0.5                       \n",
       "4 NA             NA           37.746                 0.5                       \n",
       "5 NA             NA           37.746                 0.5                       \n",
       "6 NA             NA           37.746                 0.5                       \n",
       "  life_expectancy human_development_index\n",
       "1 64.83           0.511                  \n",
       "2 64.83           0.511                  \n",
       "3 64.83           0.511                  \n",
       "4 64.83           0.511                  \n",
       "5 64.83           0.511                  \n",
       "6 64.83           0.511                  "
      ]
     },
     "metadata": {},
     "output_type": "display_data"
    }
   ],
   "source": [
    "# VIEWING THE FIRST SIX ROWS USING head() function\n",
    "head(covid)"
   ]
  },
  {
   "cell_type": "markdown",
   "id": "ccd7ec47",
   "metadata": {},
   "source": [
    "#### BEFORE MOVING FURTHER WE CAN USE THE BOXPLOT TO VISUALIZE THE POPULATION OF EACH CONTINENTS\n"
   ]
  },
  {
   "cell_type": "code",
   "execution_count": 4,
   "id": "2eb00194",
   "metadata": {},
   "outputs": [],
   "source": [
    "# DROPPING CONTINENTS WITH NA VALUES\n",
    "covid <- covid %>% drop_na(continent)"
   ]
  },
  {
   "cell_type": "code",
   "execution_count": 5,
   "id": "80d2538b",
   "metadata": {},
   "outputs": [
    {
     "name": "stderr",
     "output_type": "stream",
     "text": [
      "Warning message:\n",
      "\"Removed 100 rows containing non-finite values (stat_boxplot).\"\n"
     ]
    },
    {
     "data": {
      "image/png": "[encoded data removed]",
      "text/plain": [
       "plot without title"
      ]
     },
     "metadata": {
      "image/png": {
       "height": 420,
       "width": 420
      }
     },
     "output_type": "display_data"
    }
   ],
   "source": [
    "ggplot(covid, aes(x=continent,y=population)) + geom_boxplot()"
   ]
  },
  {
   "cell_type": "code",
   "execution_count": 6,
   "id": "ede41768",
   "metadata": {
    "scrolled": true
   },
   "outputs": [
    {
     "name": "stdout",
     "output_type": "stream",
     "text": [
      "Rows: 81,060\n",
      "Columns: 59\n",
      "$ iso_code                              \u001b[3m\u001b[90m<chr>\u001b[39m\u001b[23m \"AFG\", \"AFG\", \"AFG\", \"AFG\", \"AFG~\n",
      "$ continent                             \u001b[3m\u001b[90m<chr>\u001b[39m\u001b[23m \"Asia\", \"Asia\", \"Asia\", \"Asia\", ~\n",
      "$ location                              \u001b[3m\u001b[90m<chr>\u001b[39m\u001b[23m \"Afghanistan\", \"Afghanistan\", \"A~\n",
      "$ date                                  \u001b[3m\u001b[90m<chr>\u001b[39m\u001b[23m \"2/24/2020\", \"2/25/2020\", \"2/26/~\n",
      "$ total_cases                           \u001b[3m\u001b[90m<dbl>\u001b[39m\u001b[23m 1, 1, 1, 1, 1, 1, 1, 1, 2, 4, 4,~\n",
      "$ new_cases                             \u001b[3m\u001b[90m<dbl>\u001b[39m\u001b[23m 1, 0, 0, 0, 0, 0, 0, 0, 1, 2, 0,~\n",
      "$ new_cases_smoothed                    \u001b[3m\u001b[90m<dbl>\u001b[39m\u001b[23m NA, NA, NA, NA, NA, 0.143, 0.143~\n",
      "$ total_deaths                          \u001b[3m\u001b[90m<dbl>\u001b[39m\u001b[23m NA, NA, NA, NA, NA, NA, NA, NA, ~\n",
      "$ new_deaths                            \u001b[3m\u001b[90m<dbl>\u001b[39m\u001b[23m NA, NA, NA, NA, NA, NA, NA, NA, ~\n",
      "$ new_deaths_smoothed                   \u001b[3m\u001b[90m<dbl>\u001b[39m\u001b[23m NA, NA, NA, NA, NA, 0, 0, 0, 0, ~\n",
      "$ total_cases_per_million               \u001b[3m\u001b[90m<dbl>\u001b[39m\u001b[23m 0.026, 0.026, 0.026, 0.026, 0.02~\n",
      "$ new_cases_per_million                 \u001b[3m\u001b[90m<dbl>\u001b[39m\u001b[23m 0.026, 0.000, 0.000, 0.000, 0.00~\n",
      "$ new_cases_smoothed_per_million        \u001b[3m\u001b[90m<dbl>\u001b[39m\u001b[23m NA, NA, NA, NA, NA, 0.004, 0.004~\n",
      "$ total_deaths_per_million              \u001b[3m\u001b[90m<dbl>\u001b[39m\u001b[23m NA, NA, NA, NA, NA, NA, NA, NA, ~\n",
      "$ new_deaths_per_million                \u001b[3m\u001b[90m<dbl>\u001b[39m\u001b[23m NA, NA, NA, NA, NA, NA, NA, NA, ~\n",
      "$ new_deaths_smoothed_per_million       \u001b[3m\u001b[90m<dbl>\u001b[39m\u001b[23m NA, NA, NA, NA, NA, 0, 0, 0, 0, ~\n",
      "$ reproduction_rate                     \u001b[3m\u001b[90m<dbl>\u001b[39m\u001b[23m NA, NA, NA, NA, NA, NA, NA, NA, ~\n",
      "$ icu_patients                          \u001b[3m\u001b[90m<dbl>\u001b[39m\u001b[23m NA, NA, NA, NA, NA, NA, NA, NA, ~\n",
      "$ icu_patients_per_million              \u001b[3m\u001b[90m<dbl>\u001b[39m\u001b[23m NA, NA, NA, NA, NA, NA, NA, NA, ~\n",
      "$ hosp_patients                         \u001b[3m\u001b[90m<dbl>\u001b[39m\u001b[23m NA, NA, NA, NA, NA, NA, NA, NA, ~\n",
      "$ hosp_patients_per_million             \u001b[3m\u001b[90m<dbl>\u001b[39m\u001b[23m NA, NA, NA, NA, NA, NA, NA, NA, ~\n",
      "$ weekly_icu_admissions                 \u001b[3m\u001b[90m<dbl>\u001b[39m\u001b[23m NA, NA, NA, NA, NA, NA, NA, NA, ~\n",
      "$ weekly_icu_admissions_per_million     \u001b[3m\u001b[90m<dbl>\u001b[39m\u001b[23m NA, NA, NA, NA, NA, NA, NA, NA, ~\n",
      "$ weekly_hosp_admissions                \u001b[3m\u001b[90m<dbl>\u001b[39m\u001b[23m NA, NA, NA, NA, NA, NA, NA, NA, ~\n",
      "$ weekly_hosp_admissions_per_million    \u001b[3m\u001b[90m<dbl>\u001b[39m\u001b[23m NA, NA, NA, NA, NA, NA, NA, NA, ~\n",
      "$ new_tests                             \u001b[3m\u001b[90m<dbl>\u001b[39m\u001b[23m NA, NA, NA, NA, NA, NA, NA, NA, ~\n",
      "$ total_tests                           \u001b[3m\u001b[90m<dbl>\u001b[39m\u001b[23m NA, NA, NA, NA, NA, NA, NA, NA, ~\n",
      "$ total_tests_per_thousand              \u001b[3m\u001b[90m<dbl>\u001b[39m\u001b[23m NA, NA, NA, NA, NA, NA, NA, NA, ~\n",
      "$ new_tests_per_thousand                \u001b[3m\u001b[90m<dbl>\u001b[39m\u001b[23m NA, NA, NA, NA, NA, NA, NA, NA, ~\n",
      "$ new_tests_smoothed                    \u001b[3m\u001b[90m<dbl>\u001b[39m\u001b[23m NA, NA, NA, NA, NA, NA, NA, NA, ~\n",
      "$ new_tests_smoothed_per_thousand       \u001b[3m\u001b[90m<dbl>\u001b[39m\u001b[23m NA, NA, NA, NA, NA, NA, NA, NA, ~\n",
      "$ positive_rate                         \u001b[3m\u001b[90m<dbl>\u001b[39m\u001b[23m NA, NA, NA, NA, NA, NA, NA, NA, ~\n",
      "$ tests_per_case                        \u001b[3m\u001b[90m<dbl>\u001b[39m\u001b[23m NA, NA, NA, NA, NA, NA, NA, NA, ~\n",
      "$ tests_units                           \u001b[3m\u001b[90m<chr>\u001b[39m\u001b[23m NA, NA, NA, NA, NA, NA, NA, NA, ~\n",
      "$ total_vaccinations                    \u001b[3m\u001b[90m<dbl>\u001b[39m\u001b[23m NA, NA, NA, NA, NA, NA, NA, NA, ~\n",
      "$ people_vaccinated                     \u001b[3m\u001b[90m<dbl>\u001b[39m\u001b[23m NA, NA, NA, NA, NA, NA, NA, NA, ~\n",
      "$ people_fully_vaccinated               \u001b[3m\u001b[90m<dbl>\u001b[39m\u001b[23m NA, NA, NA, NA, NA, NA, NA, NA, ~\n",
      "$ new_vaccinations                      \u001b[3m\u001b[90m<dbl>\u001b[39m\u001b[23m NA, NA, NA, NA, NA, NA, NA, NA, ~\n",
      "$ new_vaccinations_smoothed             \u001b[3m\u001b[90m<dbl>\u001b[39m\u001b[23m NA, NA, NA, NA, NA, NA, NA, NA, ~\n",
      "$ total_vaccinations_per_hundred        \u001b[3m\u001b[90m<dbl>\u001b[39m\u001b[23m NA, NA, NA, NA, NA, NA, NA, NA, ~\n",
      "$ people_vaccinated_per_hundred         \u001b[3m\u001b[90m<dbl>\u001b[39m\u001b[23m NA, NA, NA, NA, NA, NA, NA, NA, ~\n",
      "$ people_fully_vaccinated_per_hundred   \u001b[3m\u001b[90m<dbl>\u001b[39m\u001b[23m NA, NA, NA, NA, NA, NA, NA, NA, ~\n",
      "$ new_vaccinations_smoothed_per_million \u001b[3m\u001b[90m<dbl>\u001b[39m\u001b[23m NA, NA, NA, NA, NA, NA, NA, NA, ~\n",
      "$ stringency_index                      \u001b[3m\u001b[90m<dbl>\u001b[39m\u001b[23m 8.33, 8.33, 8.33, 8.33, 8.33, 8.~\n",
      "$ population                            \u001b[3m\u001b[90m<dbl>\u001b[39m\u001b[23m 38928341, 38928341, 38928341, 38~\n",
      "$ population_density                    \u001b[3m\u001b[90m<dbl>\u001b[39m\u001b[23m 54.422, 54.422, 54.422, 54.422, ~\n",
      "$ median_age                            \u001b[3m\u001b[90m<dbl>\u001b[39m\u001b[23m 18.6, 18.6, 18.6, 18.6, 18.6, 18~\n",
      "$ aged_65_older                         \u001b[3m\u001b[90m<dbl>\u001b[39m\u001b[23m 2.581, 2.581, 2.581, 2.581, 2.58~\n",
      "$ aged_70_older                         \u001b[3m\u001b[90m<dbl>\u001b[39m\u001b[23m 1.337, 1.337, 1.337, 1.337, 1.33~\n",
      "$ gdp_per_capita                        \u001b[3m\u001b[90m<dbl>\u001b[39m\u001b[23m 1803.987, 1803.987, 1803.987, 18~\n",
      "$ extreme_poverty                       \u001b[3m\u001b[90m<dbl>\u001b[39m\u001b[23m NA, NA, NA, NA, NA, NA, NA, NA, ~\n",
      "$ cardiovasc_death_rate                 \u001b[3m\u001b[90m<dbl>\u001b[39m\u001b[23m 597.029, 597.029, 597.029, 597.0~\n",
      "$ diabetes_prevalence                   \u001b[3m\u001b[90m<dbl>\u001b[39m\u001b[23m 9.59, 9.59, 9.59, 9.59, 9.59, 9.~\n",
      "$ female_smokers                        \u001b[3m\u001b[90m<dbl>\u001b[39m\u001b[23m NA, NA, NA, NA, NA, NA, NA, NA, ~\n",
      "$ male_smokers                          \u001b[3m\u001b[90m<dbl>\u001b[39m\u001b[23m NA, NA, NA, NA, NA, NA, NA, NA, ~\n",
      "$ handwashing_facilities                \u001b[3m\u001b[90m<dbl>\u001b[39m\u001b[23m 37.746, 37.746, 37.746, 37.746, ~\n",
      "$ hospital_beds_per_thousand            \u001b[3m\u001b[90m<dbl>\u001b[39m\u001b[23m 0.5, 0.5, 0.5, 0.5, 0.5, 0.5, 0.~\n",
      "$ life_expectancy                       \u001b[3m\u001b[90m<dbl>\u001b[39m\u001b[23m 64.83, 64.83, 64.83, 64.83, 64.8~\n",
      "$ human_development_index               \u001b[3m\u001b[90m<dbl>\u001b[39m\u001b[23m 0.511, 0.511, 0.511, 0.511, 0.51~\n"
     ]
    }
   ],
   "source": [
    "# VIEWING THE STRUCTURE OF THE DATASET\n",
    "glimpse(covid)"
   ]
  },
  {
   "cell_type": "markdown",
   "id": "4384171d",
   "metadata": {},
   "source": [
    "## PRE-PROCESSING OF THE DATA"
   ]
  },
  {
   "cell_type": "code",
   "execution_count": 7,
   "id": "ac87a24e",
   "metadata": {},
   "outputs": [
    {
     "data": {
      "text/plain": [
       "   iso_code          continent           location             date          \n",
       " Length:81060       Length:81060       Length:81060       Length:81060      \n",
       " Class :character   Class :character   Class :character   Class :character  \n",
       " Mode  :character   Mode  :character   Mode  :character   Mode  :character  \n",
       "                                                                            \n",
       "                                                                            \n",
       "                                                                            \n",
       "                                                                            \n",
       "  total_cases         new_cases      new_cases_smoothed  total_deaths   \n",
       " Min.   :       1   Min.   :-74347   Min.   : -6223.0   Min.   :     1  \n",
       " 1st Qu.:     888   1st Qu.:     2   1st Qu.:     6.4   1st Qu.:    42  \n",
       " Median :    9139   Median :    60   Median :    74.1   Median :   272  \n",
       " Mean   :  272988   Mean   :  1907   Mean   :  1897.2   Mean   :  7578  \n",
       " 3rd Qu.:   92519   3rd Qu.:   631   3rd Qu.:   658.1   3rd Qu.:  2334  \n",
       " Max.   :32346971   Max.   :401993   Max.   :364926.9   Max.   :576232  \n",
       " NA's   :2094       NA's   :2101     NA's   :3049       NA's   :11591   \n",
       "   new_deaths       new_deaths_smoothed total_cases_per_million\n",
       " Min.   :-1918.00   Min.   :-232.14     Min.   :     0.0       \n",
       " 1st Qu.:    0.00   1st Qu.:   0.00     1st Qu.:   195.8       \n",
       " Median :    2.00   Median :   1.00     Median :  1334.5       \n",
       " Mean   :   45.78   Mean   :  40.22     Mean   : 10022.8       \n",
       " 3rd Qu.:   13.00   3rd Qu.:  10.71     3rd Qu.:  9820.5       \n",
       " Max.   : 4474.00   Max.   :3431.29     Max.   :171254.8       \n",
       " NA's   :11592      NA's   :3049        NA's   :2094           \n",
       " new_cases_per_million new_cases_smoothed_per_million total_deaths_per_million\n",
       " Min.   :-2153.437     Min.   :-276.825               Min.   :   0.001        \n",
       " 1st Qu.:    0.134     1st Qu.:   1.105               1st Qu.:   6.681        \n",
       " Median :    6.938     Median :   9.492               Median :  36.792        \n",
       " Mean   :   74.210     Mean   :  74.173               Mean   : 220.796        \n",
       " 3rd Qu.:   65.445     3rd Qu.:  73.737               3rd Qu.: 228.381        \n",
       " Max.   : 8652.658     Max.   :2648.773               Max.   :2850.828        \n",
       " NA's   :2101          NA's   :3049                   NA's   :11591           \n",
       " new_deaths_per_million new_deaths_smoothed_per_million reproduction_rate\n",
       " Min.   :-76.445        Min.   :-10.921                 Min.   :-0.010   \n",
       " 1st Qu.:  0.000        1st Qu.:  0.000                 1st Qu.: 0.860   \n",
       " Median :  0.104        Median :  0.124                 Median : 1.020   \n",
       " Mean   :  1.493        Mean   :  1.314                 Mean   : 1.018   \n",
       " 3rd Qu.:  1.202        3rd Qu.:  1.133                 3rd Qu.: 1.190   \n",
       " Max.   :218.329        Max.   : 63.140                 Max.   : 5.760   \n",
       " NA's   :11592          NA's   :3049                    NA's   :12581    \n",
       "  icu_patients   icu_patients_per_million hosp_patients   \n",
       " Min.   :    0   Min.   :  0.00           Min.   :     0  \n",
       " 1st Qu.:   31   1st Qu.:  4.39           1st Qu.:   111  \n",
       " Median :  178   Median : 16.36           Median :   679  \n",
       " Mean   : 1088   Mean   : 26.41           Mean   :  4833  \n",
       " 3rd Qu.:  699   3rd Qu.: 41.03           3rd Qu.:  2807  \n",
       " Max.   :30028   Max.   :192.64           Max.   :129800  \n",
       " NA's   :72376   NA's   :72376            NA's   :70246   \n",
       " hosp_patients_per_million weekly_icu_admissions\n",
       " Min.   :   0.00           Min.   :   0.00      \n",
       " 1st Qu.:  22.62           1st Qu.:   7.93      \n",
       " Median :  81.54           Median :  46.68      \n",
       " Mean   : 173.77           Mean   : 280.67      \n",
       " 3rd Qu.: 257.34           3rd Qu.: 223.44      \n",
       " Max.   :1532.57           Max.   :4037.02      \n",
       " NA's   :70246             NA's   :80271        \n",
       " weekly_icu_admissions_per_million weekly_hosp_admissions\n",
       " Min.   :  0.00                    Min.   :     0.00     \n",
       " 1st Qu.:  1.78                    1st Qu.:    59.31     \n",
       " Median :  8.94                    Median :   366.00     \n",
       " Mean   : 21.12                    Mean   :  3981.04     \n",
       " 3rd Qu.: 22.76                    3rd Qu.:  1977.88     \n",
       " Max.   :279.13                    Max.   :116374.00     \n",
       " NA's   :80271                     NA's   :79765         \n",
       " weekly_hosp_admissions_per_million   new_tests         total_tests       \n",
       " Min.   :   0.00                    Min.   : -239172   Min.   :        0  \n",
       " 1st Qu.:  10.10                    1st Qu.:    1433   1st Qu.:   124639  \n",
       " Median :  44.25                    Median :    5446   Median :   620734  \n",
       " Mean   : 115.52                    Mean   :   44020   Mean   :  5963484  \n",
       " 3rd Qu.: 130.19                    3rd Qu.:   21579   3rd Qu.:  2582847  \n",
       " Max.   :2656.91                    Max.   :32022805   Max.   :413502739  \n",
       " NA's   :79765                      NA's   :42115      NA's   :42408      \n",
       " total_tests_per_thousand new_tests_per_thousand new_tests_smoothed\n",
       " Min.   :   0.00          Min.   : -23.01        Min.   :      0   \n",
       " 1st Qu.:  11.19          1st Qu.:   0.12        1st Qu.:   1467   \n",
       " Median :  55.47          Median :   0.55        Median :   5620   \n",
       " Mean   : 227.48          Mean   :   1.94        Mean   :  41416   \n",
       " 3rd Qu.: 224.89          3rd Qu.:   1.77        3rd Qu.:  23577   \n",
       " Max.   :6233.95          Max.   :2827.22        Max.   :4594014   \n",
       " NA's   :42408            NA's   :42115          NA's   :36435     \n",
       " new_tests_smoothed_per_thousand positive_rate   tests_per_case   \n",
       " Min.   :  0.00                  Min.   :0.00    Min.   :    1.3  \n",
       " 1st Qu.:  0.12                  1st Qu.:0.02    1st Qu.:    7.7  \n",
       " Median :  0.56                  Median :0.05    Median :   18.2  \n",
       " Mean   :  1.78                  Mean   :0.09    Mean   :  159.5  \n",
       " 3rd Qu.:  1.83                  3rd Qu.:0.13    3rd Qu.:   57.2  \n",
       " Max.   :405.60                  Max.   :0.74    Max.   :44258.7  \n",
       " NA's   :36435                   NA's   :38156   NA's   :38749    \n",
       " tests_units        total_vaccinations  people_vaccinated  \n",
       " Length:81060       Min.   :        0   Min.   :        0  \n",
       " Class :character   1st Qu.:    53159   1st Qu.:    45229  \n",
       " Mode  :character   Median :   360507   Median :   285671  \n",
       "                    Mean   :  4740344   Mean   :  2964249  \n",
       "                    3rd Qu.:  1756264   3rd Qu.:  1202894  \n",
       "                    Max.   :265064000   Max.   :144894586  \n",
       "                    NA's   :72658       NA's   :73288      \n",
       " people_fully_vaccinated new_vaccinations   new_vaccinations_smoothed\n",
       " Min.   :        1       Min.   :       0   Min.   :      0          \n",
       " 1st Qu.:    22164       1st Qu.:    2512   1st Qu.:    847          \n",
       " Median :   164398       Median :   14496   Median :   5348          \n",
       " Mean   :  1584696       Mean   :  135304   Mean   :  75455          \n",
       " 3rd Qu.:   695720       3rd Qu.:   61937   3rd Qu.:  26471          \n",
       " Max.   :101407318       Max.   :11601000   Max.   :6997143          \n",
       " NA's   :75479           NA's   :74062      NA's   :66950            \n",
       " total_vaccinations_per_hundred people_vaccinated_per_hundred\n",
       " Min.   :  0.00                 Min.   :  0.00               \n",
       " 1st Qu.:  1.16                 1st Qu.:  1.06               \n",
       " Median :  5.45                 Median :  4.18               \n",
       " Mean   : 14.10                 Mean   :  9.97               \n",
       " 3rd Qu.: 17.35                 3rd Qu.: 12.60               \n",
       " Max.   :208.76                 Max.   :111.29               \n",
       " NA's   :72658                  NA's   :73288                \n",
       " people_fully_vaccinated_per_hundred new_vaccinations_smoothed_per_million\n",
       " Min.   : 0.00                       Min.   :     0                       \n",
       " 1st Qu.: 0.58                       1st Qu.:   327                       \n",
       " Median : 2.29                       Median :  1384                       \n",
       " Mean   : 5.55                       Mean   :  2860                       \n",
       " 3rd Qu.: 5.92                       3rd Qu.:  3607                       \n",
       " Max.   :97.47                       Max.   :118759                       \n",
       " NA's   :75479                       NA's   :66950                        \n",
       " stringency_index   population        population_density    median_age   \n",
       " Min.   :  0.00   Min.   :8.090e+02   Min.   :    0.137   Min.   :15.10  \n",
       " 1st Qu.: 44.44   1st Qu.:2.226e+06   1st Qu.:   36.253   1st Qu.:22.00  \n",
       " Median : 61.11   Median :9.538e+06   Median :   83.479   Median :29.70  \n",
       " Mean   : 58.74   Mean   :4.268e+07   Mean   :  350.760   Mean   :30.52  \n",
       " 3rd Qu.: 75.93   3rd Qu.:3.126e+07   3rd Qu.:  208.354   3rd Qu.:39.10  \n",
       " Max.   :100.00   Max.   :1.439e+09   Max.   :20546.766   Max.   :48.20  \n",
       " NA's   :8853     NA's   :100         NA's   :2251        NA's   :4819   \n",
       " aged_65_older    aged_70_older    gdp_per_capita     extreme_poverty\n",
       " Min.   : 1.144   Min.   : 0.526   Min.   :   661.2   Min.   : 0.10  \n",
       " 1st Qu.: 3.441   1st Qu.: 2.034   1st Qu.:  4466.5   1st Qu.: 0.50  \n",
       " Median : 6.293   Median : 3.857   Median : 12294.9   Median : 2.00  \n",
       " Mean   : 8.774   Mean   : 5.558   Mean   : 19161.2   Mean   :13.38  \n",
       " 3rd Qu.:14.312   3rd Qu.: 9.167   3rd Qu.: 27216.4   3rd Qu.:21.20  \n",
       " Max.   :27.049   Max.   :18.493   Max.   :116935.6   Max.   :77.60  \n",
       " NA's   :5695     NA's   :5249     NA's   :4479       NA's   :29076  \n",
       " cardiovasc_death_rate diabetes_prevalence female_smokers   male_smokers  \n",
       " Min.   : 79.37        Min.   : 0.990      Min.   : 0.10   Min.   : 7.70  \n",
       " 1st Qu.:167.29        1st Qu.: 5.290      1st Qu.: 1.90   1st Qu.:21.40  \n",
       " Median :243.81        Median : 7.110      Median : 6.20   Median :31.40  \n",
       " Mean   :257.93        Mean   : 7.817      Mean   :10.55   Mean   :32.64  \n",
       " 3rd Qu.:329.63        3rd Qu.:10.080      3rd Qu.:19.30   3rd Qu.:41.10  \n",
       " Max.   :724.42        Max.   :30.530      Max.   :44.00   Max.   :78.10  \n",
       " NA's   :3891          NA's   :2746        NA's   :20697   NA's   :21594  \n",
       " handwashing_facilities hospital_beds_per_thousand life_expectancy\n",
       " Min.   : 1.19          Min.   : 0.100             Min.   :53.28  \n",
       " 1st Qu.:19.35          1st Qu.: 1.300             1st Qu.:67.77  \n",
       " Median :49.54          Median : 2.397             Median :74.62  \n",
       " Mean   :50.81          Mean   : 3.032             Mean   :73.17  \n",
       " 3rd Qu.:83.24          3rd Qu.: 4.000             3rd Qu.:78.73  \n",
       " Max.   :99.00          Max.   :13.800             Max.   :86.75  \n",
       " NA's   :42518          NA's   :10678              NA's   :692    \n",
       " human_development_index\n",
       " Min.   :0.394          \n",
       " 1st Qu.:0.602          \n",
       " Median :0.748          \n",
       " Mean   :0.727          \n",
       " 3rd Qu.:0.848          \n",
       " Max.   :0.957          \n",
       " NA's   :4008           "
      ]
     },
     "metadata": {},
     "output_type": "display_data"
    }
   ],
   "source": [
    "# GETTING A SUMMARY OF THE DATASET WITH THE summary\n",
    "summary(covid)"
   ]
  },
  {
   "cell_type": "code",
   "execution_count": 8,
   "id": "6d16e354",
   "metadata": {
    "scrolled": false
   },
   "outputs": [
    {
     "data": {
      "text/html": [
       "<style>\n",
       ".list-inline {list-style: none; margin:0; padding: 0}\n",
       ".list-inline>li {display: inline-block}\n",
       ".list-inline>li:not(:last-child)::after {content: \"\\00b7\"; padding: 0 .5ex}\n",
       "</style>\n",
       "<ol class=list-inline><li>'Asia'</li><li>'Europe'</li><li>'Africa'</li><li>'North America'</li><li>'South America'</li><li>'Oceania'</li></ol>\n"
      ],
      "text/latex": [
       "\\begin{enumerate*}\n",
       "\\item 'Asia'\n",
       "\\item 'Europe'\n",
       "\\item 'Africa'\n",
       "\\item 'North America'\n",
       "\\item 'South America'\n",
       "\\item 'Oceania'\n",
       "\\end{enumerate*}\n"
      ],
      "text/markdown": [
       "1. 'Asia'\n",
       "2. 'Europe'\n",
       "3. 'Africa'\n",
       "4. 'North America'\n",
       "5. 'South America'\n",
       "6. 'Oceania'\n",
       "\n",
       "\n"
      ],
      "text/plain": [
       "[1] \"Asia\"          \"Europe\"        \"Africa\"        \"North America\"\n",
       "[5] \"South America\" \"Oceania\"      "
      ]
     },
     "metadata": {},
     "output_type": "display_data"
    }
   ],
   "source": [
    "# CHECKING THE UNIQUE CONTINENTS USING THE unique() function\n",
    "unique(covid$continent)"
   ]
  },
  {
   "cell_type": "markdown",
   "id": "e7d75144",
   "metadata": {},
   "source": [
    "###### SELECTING  EUROPE CONTINENT and VARIABLES WHICH ARE date,iso_code, continent,location,total_cases,new_cases,total_deaths, new_deaths,total_vaccinations,people_vaccinated,new_vaccinations,population WHILE EXCLUDING 'ITALY' ,'GIBRALTAR'AND 'SPAIN' ROWS"
   ]
  },
  {
   "cell_type": "code",
   "execution_count": 9,
   "id": "c4abfc94",
   "metadata": {
    "scrolled": true
   },
   "outputs": [
    {
     "data": {
      "text/html": [
       "<table class=\"dataframe\">\n",
       "<caption>A tibble: 6 × 11</caption>\n",
       "<thead>\n",
       "\t<tr><th scope=col>date</th><th scope=col>iso_code</th><th scope=col>continent</th><th scope=col>location</th><th scope=col>total_cases</th><th scope=col>total_deaths</th><th scope=col>new_cases</th><th scope=col>new_deaths</th><th scope=col>total_vaccinations</th><th scope=col>people_vaccinated</th><th scope=col>population</th></tr>\n",
       "\t<tr><th scope=col>&lt;chr&gt;</th><th scope=col>&lt;chr&gt;</th><th scope=col>&lt;chr&gt;</th><th scope=col>&lt;chr&gt;</th><th scope=col>&lt;dbl&gt;</th><th scope=col>&lt;dbl&gt;</th><th scope=col>&lt;dbl&gt;</th><th scope=col>&lt;dbl&gt;</th><th scope=col>&lt;dbl&gt;</th><th scope=col>&lt;dbl&gt;</th><th scope=col>&lt;dbl&gt;</th></tr>\n",
       "</thead>\n",
       "<tbody>\n",
       "\t<tr><td>4/25/2021</td><td>VAT</td><td>Europe</td><td>Vatican</td><td>27</td><td>NA</td><td>0</td><td>NA</td><td>NA</td><td>NA</td><td>809</td></tr>\n",
       "\t<tr><td>4/26/2021</td><td>VAT</td><td>Europe</td><td>Vatican</td><td>27</td><td>NA</td><td>0</td><td>NA</td><td>NA</td><td>NA</td><td>809</td></tr>\n",
       "\t<tr><td>4/27/2021</td><td>VAT</td><td>Europe</td><td>Vatican</td><td>27</td><td>NA</td><td>0</td><td>NA</td><td>NA</td><td>NA</td><td>809</td></tr>\n",
       "\t<tr><td>4/28/2021</td><td>VAT</td><td>Europe</td><td>Vatican</td><td>27</td><td>NA</td><td>0</td><td>NA</td><td>NA</td><td>NA</td><td>809</td></tr>\n",
       "\t<tr><td>4/29/2021</td><td>VAT</td><td>Europe</td><td>Vatican</td><td>27</td><td>NA</td><td>0</td><td>NA</td><td>NA</td><td>NA</td><td>809</td></tr>\n",
       "\t<tr><td>4/30/2021</td><td>VAT</td><td>Europe</td><td>Vatican</td><td>27</td><td>NA</td><td>0</td><td>NA</td><td>NA</td><td>NA</td><td>809</td></tr>\n",
       "</tbody>\n",
       "</table>\n"
      ],
      "text/latex": [
       "A tibble: 6 × 11\n",
       "\\begin{tabular}{lllllllllll}\n",
       " date & iso\\_code & continent & location & total\\_cases & total\\_deaths & new\\_cases & new\\_deaths & total\\_vaccinations & people\\_vaccinated & population\\\\\n",
       " <chr> & <chr> & <chr> & <chr> & <dbl> & <dbl> & <dbl> & <dbl> & <dbl> & <dbl> & <dbl>\\\\\n",
       "\\hline\n",
       "\t 4/25/2021 & VAT & Europe & Vatican & 27 & NA & 0 & NA & NA & NA & 809\\\\\n",
       "\t 4/26/2021 & VAT & Europe & Vatican & 27 & NA & 0 & NA & NA & NA & 809\\\\\n",
       "\t 4/27/2021 & VAT & Europe & Vatican & 27 & NA & 0 & NA & NA & NA & 809\\\\\n",
       "\t 4/28/2021 & VAT & Europe & Vatican & 27 & NA & 0 & NA & NA & NA & 809\\\\\n",
       "\t 4/29/2021 & VAT & Europe & Vatican & 27 & NA & 0 & NA & NA & NA & 809\\\\\n",
       "\t 4/30/2021 & VAT & Europe & Vatican & 27 & NA & 0 & NA & NA & NA & 809\\\\\n",
       "\\end{tabular}\n"
      ],
      "text/markdown": [
       "\n",
       "A tibble: 6 × 11\n",
       "\n",
       "| date &lt;chr&gt; | iso_code &lt;chr&gt; | continent &lt;chr&gt; | location &lt;chr&gt; | total_cases &lt;dbl&gt; | total_deaths &lt;dbl&gt; | new_cases &lt;dbl&gt; | new_deaths &lt;dbl&gt; | total_vaccinations &lt;dbl&gt; | people_vaccinated &lt;dbl&gt; | population &lt;dbl&gt; |\n",
       "|---|---|---|---|---|---|---|---|---|---|---|\n",
       "| 4/25/2021 | VAT | Europe | Vatican | 27 | NA | 0 | NA | NA | NA | 809 |\n",
       "| 4/26/2021 | VAT | Europe | Vatican | 27 | NA | 0 | NA | NA | NA | 809 |\n",
       "| 4/27/2021 | VAT | Europe | Vatican | 27 | NA | 0 | NA | NA | NA | 809 |\n",
       "| 4/28/2021 | VAT | Europe | Vatican | 27 | NA | 0 | NA | NA | NA | 809 |\n",
       "| 4/29/2021 | VAT | Europe | Vatican | 27 | NA | 0 | NA | NA | NA | 809 |\n",
       "| 4/30/2021 | VAT | Europe | Vatican | 27 | NA | 0 | NA | NA | NA | 809 |\n",
       "\n"
      ],
      "text/plain": [
       "  date      iso_code continent location total_cases total_deaths new_cases\n",
       "1 4/25/2021 VAT      Europe    Vatican  27          NA           0        \n",
       "2 4/26/2021 VAT      Europe    Vatican  27          NA           0        \n",
       "3 4/27/2021 VAT      Europe    Vatican  27          NA           0        \n",
       "4 4/28/2021 VAT      Europe    Vatican  27          NA           0        \n",
       "5 4/29/2021 VAT      Europe    Vatican  27          NA           0        \n",
       "6 4/30/2021 VAT      Europe    Vatican  27          NA           0        \n",
       "  new_deaths total_vaccinations people_vaccinated population\n",
       "1 NA         NA                 NA                809       \n",
       "2 NA         NA                 NA                809       \n",
       "3 NA         NA                 NA                809       \n",
       "4 NA         NA                 NA                809       \n",
       "5 NA         NA                 NA                809       \n",
       "6 NA         NA                 NA                809       "
      ]
     },
     "metadata": {},
     "output_type": "display_data"
    }
   ],
   "source": [
    "covid_Europe <- covid %>%  filter(continent=='Europe') %>% \n",
    "select(date,iso_code, continent,location,total_cases,total_deaths,new_cases,new_deaths,total_vaccinations\n",
    "       ,people_vaccinated,population)%>% \n",
    "filter(location != 'Italy', location != 'Spain', location != 'Gibraltar')\n",
    "tail(covid_Europe)"
   ]
  },
  {
   "cell_type": "code",
   "execution_count": 10,
   "id": "6e1d786b",
   "metadata": {},
   "outputs": [
    {
     "name": "stdout",
     "output_type": "stream",
     "text": [
      "Rows: 19,407\n",
      "Columns: 11\n",
      "$ date               \u001b[3m\u001b[90m<chr>\u001b[39m\u001b[23m \"2/25/2020\", \"2/26/2020\", \"2/27/2020\", \"2/28/2020\",~\n",
      "$ iso_code           \u001b[3m\u001b[90m<chr>\u001b[39m\u001b[23m \"ALB\", \"ALB\", \"ALB\", \"ALB\", \"ALB\", \"ALB\", \"ALB\", \"A~\n",
      "$ continent          \u001b[3m\u001b[90m<chr>\u001b[39m\u001b[23m \"Europe\", \"Europe\", \"Europe\", \"Europe\", \"Europe\", \"~\n",
      "$ location           \u001b[3m\u001b[90m<chr>\u001b[39m\u001b[23m \"Albania\", \"Albania\", \"Albania\", \"Albania\", \"Albani~\n",
      "$ total_cases        \u001b[3m\u001b[90m<dbl>\u001b[39m\u001b[23m NA, NA, NA, NA, NA, NA, NA, NA, NA, NA, NA, NA, NA,~\n",
      "$ total_deaths       \u001b[3m\u001b[90m<dbl>\u001b[39m\u001b[23m NA, NA, NA, NA, NA, NA, NA, NA, NA, NA, NA, NA, NA,~\n",
      "$ new_cases          \u001b[3m\u001b[90m<dbl>\u001b[39m\u001b[23m NA, NA, NA, NA, NA, NA, NA, NA, NA, NA, NA, NA, NA,~\n",
      "$ new_deaths         \u001b[3m\u001b[90m<dbl>\u001b[39m\u001b[23m NA, NA, NA, NA, NA, NA, NA, NA, NA, NA, NA, NA, NA,~\n",
      "$ total_vaccinations \u001b[3m\u001b[90m<dbl>\u001b[39m\u001b[23m NA, NA, NA, NA, NA, NA, NA, NA, NA, NA, NA, NA, NA,~\n",
      "$ people_vaccinated  \u001b[3m\u001b[90m<dbl>\u001b[39m\u001b[23m NA, NA, NA, NA, NA, NA, NA, NA, NA, NA, NA, NA, NA,~\n",
      "$ population         \u001b[3m\u001b[90m<dbl>\u001b[39m\u001b[23m 2877800, 2877800, 2877800, 2877800, 2877800, 287780~\n"
     ]
    }
   ],
   "source": [
    "# VIEWING THE STRUCTURE OF THE DATASET\n",
    "glimpse(covid_Europe)"
   ]
  },
  {
   "cell_type": "code",
   "execution_count": 11,
   "id": "e563d2d3",
   "metadata": {
    "scrolled": true
   },
   "outputs": [
    {
     "data": {
      "text/html": [
       "<style>\n",
       ".list-inline {list-style: none; margin:0; padding: 0}\n",
       ".list-inline>li {display: inline-block}\n",
       ".list-inline>li:not(:last-child)::after {content: \"\\00b7\"; padding: 0 .5ex}\n",
       "</style>\n",
       "<ol class=list-inline><li>'Albania'</li><li>'Andorra'</li><li>'Austria'</li><li>'Belarus'</li><li>'Belgium'</li><li>'Bosnia and Herzegovina'</li><li>'Bulgaria'</li><li>'Croatia'</li><li>'Cyprus'</li><li>'Czechia'</li><li>'Denmark'</li><li>'Estonia'</li><li>'Faeroe Islands'</li><li>'Finland'</li><li>'France'</li><li>'Germany'</li><li>'Greece'</li><li>'Guernsey'</li><li>'Hungary'</li><li>'Iceland'</li><li>'Ireland'</li><li>'Isle of Man'</li><li>'Jersey'</li><li>'Kosovo'</li><li>'Latvia'</li><li>'Liechtenstein'</li><li>'Lithuania'</li><li>'Luxembourg'</li><li>'Malta'</li><li>'Moldova'</li><li>'Monaco'</li><li>'Montenegro'</li><li>'Netherlands'</li><li>'North Macedonia'</li><li>'Norway'</li><li>'Poland'</li><li>'Portugal'</li><li>'Romania'</li><li>'Russia'</li><li>'San Marino'</li><li>'Serbia'</li><li>'Slovakia'</li><li>'Slovenia'</li><li>'Sweden'</li><li>'Switzerland'</li><li>'Ukraine'</li><li>'United Kingdom'</li><li>'Vatican'</li></ol>\n"
      ],
      "text/latex": [
       "\\begin{enumerate*}\n",
       "\\item 'Albania'\n",
       "\\item 'Andorra'\n",
       "\\item 'Austria'\n",
       "\\item 'Belarus'\n",
       "\\item 'Belgium'\n",
       "\\item 'Bosnia and Herzegovina'\n",
       "\\item 'Bulgaria'\n",
       "\\item 'Croatia'\n",
       "\\item 'Cyprus'\n",
       "\\item 'Czechia'\n",
       "\\item 'Denmark'\n",
       "\\item 'Estonia'\n",
       "\\item 'Faeroe Islands'\n",
       "\\item 'Finland'\n",
       "\\item 'France'\n",
       "\\item 'Germany'\n",
       "\\item 'Greece'\n",
       "\\item 'Guernsey'\n",
       "\\item 'Hungary'\n",
       "\\item 'Iceland'\n",
       "\\item 'Ireland'\n",
       "\\item 'Isle of Man'\n",
       "\\item 'Jersey'\n",
       "\\item 'Kosovo'\n",
       "\\item 'Latvia'\n",
       "\\item 'Liechtenstein'\n",
       "\\item 'Lithuania'\n",
       "\\item 'Luxembourg'\n",
       "\\item 'Malta'\n",
       "\\item 'Moldova'\n",
       "\\item 'Monaco'\n",
       "\\item 'Montenegro'\n",
       "\\item 'Netherlands'\n",
       "\\item 'North Macedonia'\n",
       "\\item 'Norway'\n",
       "\\item 'Poland'\n",
       "\\item 'Portugal'\n",
       "\\item 'Romania'\n",
       "\\item 'Russia'\n",
       "\\item 'San Marino'\n",
       "\\item 'Serbia'\n",
       "\\item 'Slovakia'\n",
       "\\item 'Slovenia'\n",
       "\\item 'Sweden'\n",
       "\\item 'Switzerland'\n",
       "\\item 'Ukraine'\n",
       "\\item 'United Kingdom'\n",
       "\\item 'Vatican'\n",
       "\\end{enumerate*}\n"
      ],
      "text/markdown": [
       "1. 'Albania'\n",
       "2. 'Andorra'\n",
       "3. 'Austria'\n",
       "4. 'Belarus'\n",
       "5. 'Belgium'\n",
       "6. 'Bosnia and Herzegovina'\n",
       "7. 'Bulgaria'\n",
       "8. 'Croatia'\n",
       "9. 'Cyprus'\n",
       "10. 'Czechia'\n",
       "11. 'Denmark'\n",
       "12. 'Estonia'\n",
       "13. 'Faeroe Islands'\n",
       "14. 'Finland'\n",
       "15. 'France'\n",
       "16. 'Germany'\n",
       "17. 'Greece'\n",
       "18. 'Guernsey'\n",
       "19. 'Hungary'\n",
       "20. 'Iceland'\n",
       "21. 'Ireland'\n",
       "22. 'Isle of Man'\n",
       "23. 'Jersey'\n",
       "24. 'Kosovo'\n",
       "25. 'Latvia'\n",
       "26. 'Liechtenstein'\n",
       "27. 'Lithuania'\n",
       "28. 'Luxembourg'\n",
       "29. 'Malta'\n",
       "30. 'Moldova'\n",
       "31. 'Monaco'\n",
       "32. 'Montenegro'\n",
       "33. 'Netherlands'\n",
       "34. 'North Macedonia'\n",
       "35. 'Norway'\n",
       "36. 'Poland'\n",
       "37. 'Portugal'\n",
       "38. 'Romania'\n",
       "39. 'Russia'\n",
       "40. 'San Marino'\n",
       "41. 'Serbia'\n",
       "42. 'Slovakia'\n",
       "43. 'Slovenia'\n",
       "44. 'Sweden'\n",
       "45. 'Switzerland'\n",
       "46. 'Ukraine'\n",
       "47. 'United Kingdom'\n",
       "48. 'Vatican'\n",
       "\n",
       "\n"
      ],
      "text/plain": [
       " [1] \"Albania\"                \"Andorra\"                \"Austria\"               \n",
       " [4] \"Belarus\"                \"Belgium\"                \"Bosnia and Herzegovina\"\n",
       " [7] \"Bulgaria\"               \"Croatia\"                \"Cyprus\"                \n",
       "[10] \"Czechia\"                \"Denmark\"                \"Estonia\"               \n",
       "[13] \"Faeroe Islands\"         \"Finland\"                \"France\"                \n",
       "[16] \"Germany\"                \"Greece\"                 \"Guernsey\"              \n",
       "[19] \"Hungary\"                \"Iceland\"                \"Ireland\"               \n",
       "[22] \"Isle of Man\"            \"Jersey\"                 \"Kosovo\"                \n",
       "[25] \"Latvia\"                 \"Liechtenstein\"          \"Lithuania\"             \n",
       "[28] \"Luxembourg\"             \"Malta\"                  \"Moldova\"               \n",
       "[31] \"Monaco\"                 \"Montenegro\"             \"Netherlands\"           \n",
       "[34] \"North Macedonia\"        \"Norway\"                 \"Poland\"                \n",
       "[37] \"Portugal\"               \"Romania\"                \"Russia\"                \n",
       "[40] \"San Marino\"             \"Serbia\"                 \"Slovakia\"              \n",
       "[43] \"Slovenia\"               \"Sweden\"                 \"Switzerland\"           \n",
       "[46] \"Ukraine\"                \"United Kingdom\"         \"Vatican\"               "
      ]
     },
     "metadata": {},
     "output_type": "display_data"
    }
   ],
   "source": [
    "# CONFIRMING THE ABSENCE OF ITALY AND SPAIN DATA\n",
    "unique(covid_Europe$location)"
   ]
  },
  {
   "cell_type": "code",
   "execution_count": 12,
   "id": "51bec548",
   "metadata": {
    "scrolled": true
   },
   "outputs": [
    {
     "data": {
      "text/plain": [
       "     date             iso_code          continent           location        \n",
       " Length:19407       Length:19407       Length:19407       Length:19407      \n",
       " Class :character   Class :character   Class :character   Class :character  \n",
       " Mode  :character   Mode  :character   Mode  :character   Mode  :character  \n",
       "                                                                            \n",
       "                                                                            \n",
       "                                                                            \n",
       "                                                                            \n",
       "  total_cases       total_deaths      new_cases        new_deaths     \n",
       " Min.   :      1   Min.   :     1   Min.   :-46076   Min.   :-232.00  \n",
       " 1st Qu.:   2260   1st Qu.:    86   1st Qu.:    17   1st Qu.:   0.00  \n",
       " Median :  26222   Median :   721   Median :   235   Median :   5.00  \n",
       " Mean   : 256932   Mean   :  6906   Mean   :  1973   Mean   :  46.43  \n",
       " 3rd Qu.: 176626   3rd Qu.:  5209   3rd Qu.:  1212   3rd Qu.:  28.00  \n",
       " Max.   :5677835   Max.   :127775   Max.   :117900   Max.   :1826.00  \n",
       " NA's   :496       NA's   :1795     NA's   :496      NA's   :1795     \n",
       " total_vaccinations people_vaccinated    population       \n",
       " Min.   :       0   Min.   :       0   Min.   :      809  \n",
       " 1st Qu.:   54597   1st Qu.:   45585   1st Qu.:  1326539  \n",
       " Median :  346056   Median :  281713   Median :  5421242  \n",
       " Mean   : 2068139   Mean   : 1625410   Mean   : 14795919  \n",
       " 3rd Qu.: 1363936   3rd Qu.: 1012180   3rd Qu.: 10196707  \n",
       " Max.   :48748962   Max.   :34216087   Max.   :145934460  \n",
       " NA's   :15800      NA's   :15922                         "
      ]
     },
     "metadata": {},
     "output_type": "display_data"
    }
   ],
   "source": [
    "# GET A SUMMARY OF DATASET\n",
    "summary(covid_Europe)"
   ]
  },
  {
   "cell_type": "code",
   "execution_count": null,
   "id": "13b5e476",
   "metadata": {},
   "outputs": [],
   "source": []
  },
  {
   "cell_type": "markdown",
   "id": "e81f4691",
   "metadata": {},
   "source": [
    "#### From the summary of the dataset we can see that the date is in character mode and all numeric columns are have lots of NA values, we have to change the data type of the date column to Date and replace the NA values with 0, also the new_cases and new_deaths both have negative values."
   ]
  },
  {
   "cell_type": "code",
   "execution_count": 13,
   "id": "8d13db32",
   "metadata": {},
   "outputs": [],
   "source": [
    "# CHANGING THE NEGATIVE new_cases and new_deaths COLUMNS TO POSITIVE\n",
    "covid_Europe$new_cases <-  abs(covid_Europe$new_cases)\n",
    "covid_Europe$new_deaths <-  abs(covid_Europe$new_deaths)"
   ]
  },
  {
   "cell_type": "code",
   "execution_count": 14,
   "id": "ca017723",
   "metadata": {},
   "outputs": [],
   "source": [
    "# CHANGING THE DATATYPE OF THE date COLUMN USING THE as.Date() function.\n",
    "covid_Europe$date <- as.Date(covid_Europe$date, \"%m/%d/%Y\")"
   ]
  },
  {
   "cell_type": "code",
   "execution_count": 15,
   "id": "f7bed3fe",
   "metadata": {},
   "outputs": [],
   "source": [
    "# REPLACING THE NA VALUES, USING replace_na()\n",
    "covid_Europe$total_cases <-  replace_na(covid_Europe$total_cases,0)\n",
    "covid_Europe$total_deaths <-  replace_na(covid_Europe$total_deaths,0)\n",
    "covid_Europe$new_cases <-  replace_na(covid_Europe$new_cases,0)\n",
    "covid_Europe$new_deaths <-  replace_na(covid_Europe$new_deaths,0)\n",
    "covid_Europe$total_vaccinations <-  replace_na(covid_Europe$total_vaccinations,0)\n",
    "covid_Europe$people_vaccinated <-  replace_na(covid_Europe$people_vaccinated,0)\n"
   ]
  },
  {
   "cell_type": "code",
   "execution_count": 16,
   "id": "7b1abe3e",
   "metadata": {},
   "outputs": [
    {
     "data": {
      "text/plain": [
       "      date              iso_code          continent           location        \n",
       " Min.   :2020-01-24   Length:19407       Length:19407       Length:19407      \n",
       " 1st Qu.:2020-06-12   Class :character   Class :character   Class :character  \n",
       " Median :2020-09-30   Mode  :character   Mode  :character   Mode  :character  \n",
       " Mean   :2020-09-29                                                           \n",
       " 3rd Qu.:2021-01-19                                                           \n",
       " Max.   :2021-04-30                                                           \n",
       "  total_cases       total_deaths      new_cases        new_deaths     \n",
       " Min.   :      0   Min.   :     0   Min.   :     0   Min.   :   0.00  \n",
       " 1st Qu.:   1965   1st Qu.:    42   1st Qu.:    13   1st Qu.:   0.00  \n",
       " Median :  23774   Median :   573   Median :   213   Median :   3.00  \n",
       " Mean   : 250365   Mean   :  6268   Mean   :  1932   Mean   :  42.24  \n",
       " 3rd Qu.: 166016   3rd Qu.:  4182   3rd Qu.:  1154   3rd Qu.:  23.00  \n",
       " Max.   :5677835   Max.   :127775   Max.   :117900   Max.   :1826.00  \n",
       " total_vaccinations people_vaccinated    population       \n",
       " Min.   :       0   Min.   :       0   Min.   :      809  \n",
       " 1st Qu.:       0   1st Qu.:       0   1st Qu.:  1326539  \n",
       " Median :       0   Median :       0   Median :  5421242  \n",
       " Mean   :  384386   Mean   :  291882   Mean   : 14795919  \n",
       " 3rd Qu.:       0   3rd Qu.:       0   3rd Qu.: 10196707  \n",
       " Max.   :48748962   Max.   :34216087   Max.   :145934460  "
      ]
     },
     "metadata": {},
     "output_type": "display_data"
    }
   ],
   "source": [
    "# GETTING THE SUMMARY\n",
    "summary(covid_Europe)"
   ]
  },
  {
   "cell_type": "code",
   "execution_count": 17,
   "id": "4995c886",
   "metadata": {},
   "outputs": [
    {
     "name": "stdout",
     "output_type": "stream",
     "text": [
      "Rows: 19,407\n",
      "Columns: 11\n",
      "$ date               \u001b[3m\u001b[90m<date>\u001b[39m\u001b[23m 2020-02-25, 2020-02-26, 2020-02-27, 2020-02-28, 20~\n",
      "$ iso_code           \u001b[3m\u001b[90m<chr>\u001b[39m\u001b[23m \"ALB\", \"ALB\", \"ALB\", \"ALB\", \"ALB\", \"ALB\", \"ALB\", \"A~\n",
      "$ continent          \u001b[3m\u001b[90m<chr>\u001b[39m\u001b[23m \"Europe\", \"Europe\", \"Europe\", \"Europe\", \"Europe\", \"~\n",
      "$ location           \u001b[3m\u001b[90m<chr>\u001b[39m\u001b[23m \"Albania\", \"Albania\", \"Albania\", \"Albania\", \"Albani~\n",
      "$ total_cases        \u001b[3m\u001b[90m<dbl>\u001b[39m\u001b[23m 0, 0, 0, 0, 0, 0, 0, 0, 0, 0, 0, 0, 0, 2, 10, 12, 2~\n",
      "$ total_deaths       \u001b[3m\u001b[90m<dbl>\u001b[39m\u001b[23m 0, 0, 0, 0, 0, 0, 0, 0, 0, 0, 0, 0, 0, 0, 0, 1, 1, ~\n",
      "$ new_cases          \u001b[3m\u001b[90m<dbl>\u001b[39m\u001b[23m 0, 0, 0, 0, 0, 0, 0, 0, 0, 0, 0, 0, 0, 2, 8, 2, 11,~\n",
      "$ new_deaths         \u001b[3m\u001b[90m<dbl>\u001b[39m\u001b[23m 0, 0, 0, 0, 0, 0, 0, 0, 0, 0, 0, 0, 0, 0, 0, 1, 0, ~\n",
      "$ total_vaccinations \u001b[3m\u001b[90m<dbl>\u001b[39m\u001b[23m 0, 0, 0, 0, 0, 0, 0, 0, 0, 0, 0, 0, 0, 0, 0, 0, 0, ~\n",
      "$ people_vaccinated  \u001b[3m\u001b[90m<dbl>\u001b[39m\u001b[23m 0, 0, 0, 0, 0, 0, 0, 0, 0, 0, 0, 0, 0, 0, 0, 0, 0, ~\n",
      "$ population         \u001b[3m\u001b[90m<dbl>\u001b[39m\u001b[23m 2877800, 2877800, 2877800, 2877800, 2877800, 287780~\n"
     ]
    }
   ],
   "source": [
    "glimpse(covid_Europe)"
   ]
  },
  {
   "cell_type": "markdown",
   "id": "ec2b6df9",
   "metadata": {},
   "source": [
    "### STANDADIZING THE DATASET"
   ]
  },
  {
   "cell_type": "code",
   "execution_count": 18,
   "id": "72080822",
   "metadata": {},
   "outputs": [],
   "source": [
    "# CAPITALIZING THE COLUMN NAMES\n",
    "names(covid_Europe) <- toupper(names(covid_Europe))\n",
    "# REMOVING WHITE SPACE\n",
    "names(covid_Europe) <- str_replace_all(names(covid_Europe), \" \", \"\")"
   ]
  },
  {
   "cell_type": "code",
   "execution_count": 19,
   "id": "06b21553",
   "metadata": {},
   "outputs": [
    {
     "name": "stdout",
     "output_type": "stream",
     "text": [
      "Rows: 19,407\n",
      "Columns: 11\n",
      "$ DATE               \u001b[3m\u001b[90m<date>\u001b[39m\u001b[23m 2020-02-25, 2020-02-26, 2020-02-27, 2020-02-28, 20~\n",
      "$ ISO_CODE           \u001b[3m\u001b[90m<chr>\u001b[39m\u001b[23m \"ALB\", \"ALB\", \"ALB\", \"ALB\", \"ALB\", \"ALB\", \"ALB\", \"A~\n",
      "$ CONTINENT          \u001b[3m\u001b[90m<chr>\u001b[39m\u001b[23m \"Europe\", \"Europe\", \"Europe\", \"Europe\", \"Europe\", \"~\n",
      "$ LOCATION           \u001b[3m\u001b[90m<chr>\u001b[39m\u001b[23m \"Albania\", \"Albania\", \"Albania\", \"Albania\", \"Albani~\n",
      "$ TOTAL_CASES        \u001b[3m\u001b[90m<dbl>\u001b[39m\u001b[23m 0, 0, 0, 0, 0, 0, 0, 0, 0, 0, 0, 0, 0, 2, 10, 12, 2~\n",
      "$ TOTAL_DEATHS       \u001b[3m\u001b[90m<dbl>\u001b[39m\u001b[23m 0, 0, 0, 0, 0, 0, 0, 0, 0, 0, 0, 0, 0, 0, 0, 1, 1, ~\n",
      "$ NEW_CASES          \u001b[3m\u001b[90m<dbl>\u001b[39m\u001b[23m 0, 0, 0, 0, 0, 0, 0, 0, 0, 0, 0, 0, 0, 2, 8, 2, 11,~\n",
      "$ NEW_DEATHS         \u001b[3m\u001b[90m<dbl>\u001b[39m\u001b[23m 0, 0, 0, 0, 0, 0, 0, 0, 0, 0, 0, 0, 0, 0, 0, 1, 0, ~\n",
      "$ TOTAL_VACCINATIONS \u001b[3m\u001b[90m<dbl>\u001b[39m\u001b[23m 0, 0, 0, 0, 0, 0, 0, 0, 0, 0, 0, 0, 0, 0, 0, 0, 0, ~\n",
      "$ PEOPLE_VACCINATED  \u001b[3m\u001b[90m<dbl>\u001b[39m\u001b[23m 0, 0, 0, 0, 0, 0, 0, 0, 0, 0, 0, 0, 0, 0, 0, 0, 0, ~\n",
      "$ POPULATION         \u001b[3m\u001b[90m<dbl>\u001b[39m\u001b[23m 2877800, 2877800, 2877800, 2877800, 2877800, 287780~\n"
     ]
    }
   ],
   "source": [
    "glimpse(covid_Europe)"
   ]
  },
  {
   "cell_type": "code",
   "execution_count": 20,
   "id": "2815c141",
   "metadata": {},
   "outputs": [
    {
     "data": {
      "text/html": [
       "<table class=\"dataframe\">\n",
       "<caption>A tibble: 6 × 11</caption>\n",
       "<thead>\n",
       "\t<tr><th scope=col>DATE</th><th scope=col>ISO_CODE</th><th scope=col>CONTINENT</th><th scope=col>LOCATION</th><th scope=col>TOTAL_CASES</th><th scope=col>TOTAL_DEATHS</th><th scope=col>NEW_CASES</th><th scope=col>NEW_DEATHS</th><th scope=col>TOTAL_VACCINATIONS</th><th scope=col>PEOPLE_VACCINATED</th><th scope=col>POPULATION</th></tr>\n",
       "\t<tr><th scope=col>&lt;date&gt;</th><th scope=col>&lt;chr&gt;</th><th scope=col>&lt;chr&gt;</th><th scope=col>&lt;chr&gt;</th><th scope=col>&lt;dbl&gt;</th><th scope=col>&lt;dbl&gt;</th><th scope=col>&lt;dbl&gt;</th><th scope=col>&lt;dbl&gt;</th><th scope=col>&lt;dbl&gt;</th><th scope=col>&lt;dbl&gt;</th><th scope=col>&lt;dbl&gt;</th></tr>\n",
       "</thead>\n",
       "<tbody>\n",
       "\t<tr><td>2020-02-25</td><td>ALB</td><td>Europe</td><td>Albania</td><td>0</td><td>0</td><td>0</td><td>0</td><td>0</td><td>0</td><td>2877800</td></tr>\n",
       "\t<tr><td>2020-02-26</td><td>ALB</td><td>Europe</td><td>Albania</td><td>0</td><td>0</td><td>0</td><td>0</td><td>0</td><td>0</td><td>2877800</td></tr>\n",
       "\t<tr><td>2020-02-27</td><td>ALB</td><td>Europe</td><td>Albania</td><td>0</td><td>0</td><td>0</td><td>0</td><td>0</td><td>0</td><td>2877800</td></tr>\n",
       "\t<tr><td>2020-02-28</td><td>ALB</td><td>Europe</td><td>Albania</td><td>0</td><td>0</td><td>0</td><td>0</td><td>0</td><td>0</td><td>2877800</td></tr>\n",
       "\t<tr><td>2020-02-29</td><td>ALB</td><td>Europe</td><td>Albania</td><td>0</td><td>0</td><td>0</td><td>0</td><td>0</td><td>0</td><td>2877800</td></tr>\n",
       "\t<tr><td>2020-03-01</td><td>ALB</td><td>Europe</td><td>Albania</td><td>0</td><td>0</td><td>0</td><td>0</td><td>0</td><td>0</td><td>2877800</td></tr>\n",
       "</tbody>\n",
       "</table>\n"
      ],
      "text/latex": [
       "A tibble: 6 × 11\n",
       "\\begin{tabular}{lllllllllll}\n",
       " DATE & ISO\\_CODE & CONTINENT & LOCATION & TOTAL\\_CASES & TOTAL\\_DEATHS & NEW\\_CASES & NEW\\_DEATHS & TOTAL\\_VACCINATIONS & PEOPLE\\_VACCINATED & POPULATION\\\\\n",
       " <date> & <chr> & <chr> & <chr> & <dbl> & <dbl> & <dbl> & <dbl> & <dbl> & <dbl> & <dbl>\\\\\n",
       "\\hline\n",
       "\t 2020-02-25 & ALB & Europe & Albania & 0 & 0 & 0 & 0 & 0 & 0 & 2877800\\\\\n",
       "\t 2020-02-26 & ALB & Europe & Albania & 0 & 0 & 0 & 0 & 0 & 0 & 2877800\\\\\n",
       "\t 2020-02-27 & ALB & Europe & Albania & 0 & 0 & 0 & 0 & 0 & 0 & 2877800\\\\\n",
       "\t 2020-02-28 & ALB & Europe & Albania & 0 & 0 & 0 & 0 & 0 & 0 & 2877800\\\\\n",
       "\t 2020-02-29 & ALB & Europe & Albania & 0 & 0 & 0 & 0 & 0 & 0 & 2877800\\\\\n",
       "\t 2020-03-01 & ALB & Europe & Albania & 0 & 0 & 0 & 0 & 0 & 0 & 2877800\\\\\n",
       "\\end{tabular}\n"
      ],
      "text/markdown": [
       "\n",
       "A tibble: 6 × 11\n",
       "\n",
       "| DATE &lt;date&gt; | ISO_CODE &lt;chr&gt; | CONTINENT &lt;chr&gt; | LOCATION &lt;chr&gt; | TOTAL_CASES &lt;dbl&gt; | TOTAL_DEATHS &lt;dbl&gt; | NEW_CASES &lt;dbl&gt; | NEW_DEATHS &lt;dbl&gt; | TOTAL_VACCINATIONS &lt;dbl&gt; | PEOPLE_VACCINATED &lt;dbl&gt; | POPULATION &lt;dbl&gt; |\n",
       "|---|---|---|---|---|---|---|---|---|---|---|\n",
       "| 2020-02-25 | ALB | Europe | Albania | 0 | 0 | 0 | 0 | 0 | 0 | 2877800 |\n",
       "| 2020-02-26 | ALB | Europe | Albania | 0 | 0 | 0 | 0 | 0 | 0 | 2877800 |\n",
       "| 2020-02-27 | ALB | Europe | Albania | 0 | 0 | 0 | 0 | 0 | 0 | 2877800 |\n",
       "| 2020-02-28 | ALB | Europe | Albania | 0 | 0 | 0 | 0 | 0 | 0 | 2877800 |\n",
       "| 2020-02-29 | ALB | Europe | Albania | 0 | 0 | 0 | 0 | 0 | 0 | 2877800 |\n",
       "| 2020-03-01 | ALB | Europe | Albania | 0 | 0 | 0 | 0 | 0 | 0 | 2877800 |\n",
       "\n"
      ],
      "text/plain": [
       "  DATE       ISO_CODE CONTINENT LOCATION TOTAL_CASES TOTAL_DEATHS NEW_CASES\n",
       "1 2020-02-25 ALB      Europe    Albania  0           0            0        \n",
       "2 2020-02-26 ALB      Europe    Albania  0           0            0        \n",
       "3 2020-02-27 ALB      Europe    Albania  0           0            0        \n",
       "4 2020-02-28 ALB      Europe    Albania  0           0            0        \n",
       "5 2020-02-29 ALB      Europe    Albania  0           0            0        \n",
       "6 2020-03-01 ALB      Europe    Albania  0           0            0        \n",
       "  NEW_DEATHS TOTAL_VACCINATIONS PEOPLE_VACCINATED POPULATION\n",
       "1 0          0                  0                 2877800   \n",
       "2 0          0                  0                 2877800   \n",
       "3 0          0                  0                 2877800   \n",
       "4 0          0                  0                 2877800   \n",
       "5 0          0                  0                 2877800   \n",
       "6 0          0                  0                 2877800   "
      ]
     },
     "metadata": {},
     "output_type": "display_data"
    }
   ],
   "source": [
    "head(covid_Europe)"
   ]
  },
  {
   "cell_type": "markdown",
   "id": "6b37b7da",
   "metadata": {},
   "source": [
    "## STATISTICAL QUESTIONS"
   ]
  },
  {
   "cell_type": "markdown",
   "id": "7d95a995",
   "metadata": {},
   "source": [
    "Question one : is the cases of Ireland greater than that of France?\n",
    "\n",
    "Question two : is the deathes of Moldova greater than that of Monaco?\n",
    "\n",
    "Question three : is the cases of Bosnia and Herzegovina equals to that of Bulgaria?\n",
    "\n",
    "Question four : is the deaths of Croatia greater than that of Cyprus?\n",
    "\n",
    "Question five : is cases of Denmark less than that of Estonia?"
   ]
  },
  {
   "cell_type": "markdown",
   "id": "99c61b7a",
   "metadata": {},
   "source": [
    "### ANSWER TO QUESTION ONE\n",
    "To answer this question we need to select two columns,\n",
    "\n",
    "the location and the new_cases for each countries \n",
    "\n",
    "and drill it down to a row of data for Ireland and France as the \n",
    "\n",
    "data set contain data from year 2020 to 2021 "
   ]
  },
  {
   "cell_type": "code",
   "execution_count": 21,
   "id": "53cbf164",
   "metadata": {},
   "outputs": [],
   "source": [
    "countries <- covid_Europe %>%select(LOCATION,NEW_CASES)%>%  \n",
    "filter(LOCATION =='France'| LOCATION=='Ireland') %>% group_by(LOCATION)\n",
    " "
   ]
  },
  {
   "cell_type": "code",
   "execution_count": 22,
   "id": "d529367a",
   "metadata": {},
   "outputs": [
    {
     "data": {
      "text/html": [
       "<table class=\"dataframe\">\n",
       "<caption>A grouped_df: 6 × 2</caption>\n",
       "<thead>\n",
       "\t<tr><th scope=col>LOCATION</th><th scope=col>NEW_CASES</th></tr>\n",
       "\t<tr><th scope=col>&lt;chr&gt;</th><th scope=col>&lt;dbl&gt;</th></tr>\n",
       "</thead>\n",
       "<tbody>\n",
       "\t<tr><td>Ireland</td><td>429</td></tr>\n",
       "\t<tr><td>Ireland</td><td>436</td></tr>\n",
       "\t<tr><td>Ireland</td><td>420</td></tr>\n",
       "\t<tr><td>Ireland</td><td>368</td></tr>\n",
       "\t<tr><td>Ireland</td><td>469</td></tr>\n",
       "\t<tr><td>Ireland</td><td>544</td></tr>\n",
       "</tbody>\n",
       "</table>\n"
      ],
      "text/latex": [
       "A grouped\\_df: 6 × 2\n",
       "\\begin{tabular}{ll}\n",
       " LOCATION & NEW\\_CASES\\\\\n",
       " <chr> & <dbl>\\\\\n",
       "\\hline\n",
       "\t Ireland & 429\\\\\n",
       "\t Ireland & 436\\\\\n",
       "\t Ireland & 420\\\\\n",
       "\t Ireland & 368\\\\\n",
       "\t Ireland & 469\\\\\n",
       "\t Ireland & 544\\\\\n",
       "\\end{tabular}\n"
      ],
      "text/markdown": [
       "\n",
       "A grouped_df: 6 × 2\n",
       "\n",
       "| LOCATION &lt;chr&gt; | NEW_CASES &lt;dbl&gt; |\n",
       "|---|---|\n",
       "| Ireland | 429 |\n",
       "| Ireland | 436 |\n",
       "| Ireland | 420 |\n",
       "| Ireland | 368 |\n",
       "| Ireland | 469 |\n",
       "| Ireland | 544 |\n",
       "\n"
      ],
      "text/plain": [
       "  LOCATION NEW_CASES\n",
       "1 Ireland  429      \n",
       "2 Ireland  436      \n",
       "3 Ireland  420      \n",
       "4 Ireland  368      \n",
       "5 Ireland  469      \n",
       "6 Ireland  544      "
      ]
     },
     "metadata": {},
     "output_type": "display_data"
    }
   ],
   "source": [
    "tail(countries)"
   ]
  },
  {
   "cell_type": "code",
   "execution_count": 23,
   "id": "89a9cf61",
   "metadata": {},
   "outputs": [
    {
     "data": {
      "text/plain": [
       "\n",
       "\tWelch Two Sample t-test\n",
       "\n",
       "data:  NEW_CASES by LOCATION\n",
       "t = 15.556, df = 465.73, p-value < 2.2e-16\n",
       "alternative hypothesis: true difference in means between group France and group Ireland is not equal to 0\n",
       "95 percent confidence interval:\n",
       " 10486.05 13518.40\n",
       "sample estimates:\n",
       " mean in group France mean in group Ireland \n",
       "           12585.0605              582.8337 \n"
      ]
     },
     "metadata": {},
     "output_type": "display_data"
    }
   ],
   "source": [
    "t.test(data=countries,NEW_CASES~LOCATION)"
   ]
  },
  {
   "cell_type": "markdown",
   "id": "92155cb4",
   "metadata": {},
   "source": [
    "### ANSWER TO QUESTION TWO\n",
    "To answer this question we need to select two columns,\n",
    "\n",
    "the location and the deathes for each countries\n",
    "\n",
    "and drill it down to a row of data for  Moldova and Monaco as the\n",
    "\n",
    "data set contain data from year 2020 to 2021"
   ]
  },
  {
   "cell_type": "code",
   "execution_count": 24,
   "id": "dd3dac98",
   "metadata": {},
   "outputs": [
    {
     "data": {
      "text/plain": [
       "\n",
       "\tWelch Two Sample t-test\n",
       "\n",
       "data:  NEW_CASES by LOCATION\n",
       "t = 24.154, df = 418.21, p-value < 2.2e-16\n",
       "alternative hypothesis: true difference in means between group Moldova and group Monaco is not equal to 0\n",
       "95 percent confidence interval:\n",
       " 544.6067 641.0994\n",
       "sample estimates:\n",
       "mean in group Moldova  mean in group Monaco \n",
       "           598.656325              5.803279 \n"
      ]
     },
     "metadata": {},
     "output_type": "display_data"
    }
   ],
   "source": [
    "countries <- covid_Europe %>%select(LOCATION,NEW_CASES)%>%  \n",
    "filter(LOCATION =='Moldova'| LOCATION=='Monaco') %>% group_by(LOCATION)\n",
    " t.test(data=countries,NEW_CASES~LOCATION)"
   ]
  },
  {
   "cell_type": "code",
   "execution_count": 25,
   "id": "d37c60a6",
   "metadata": {},
   "outputs": [
    {
     "data": {
      "text/plain": [
       "\n",
       "\tWelch Two Sample t-test\n",
       "\n",
       "data:  NEW_CASES by LOCATION\n",
       "t = 24.154, df = 418.21, p-value < 2.2e-16\n",
       "alternative hypothesis: true difference in means between group Moldova and group Monaco is not equal to 0\n",
       "95 percent confidence interval:\n",
       " 544.6067 641.0994\n",
       "sample estimates:\n",
       "mean in group Moldova  mean in group Monaco \n",
       "           598.656325              5.803279 \n"
      ]
     },
     "metadata": {},
     "output_type": "display_data"
    }
   ],
   "source": [
    "\n",
    "t.test(data=countries,NEW_CASES~LOCATION)"
   ]
  },
  {
   "cell_type": "markdown",
   "id": "4653e946",
   "metadata": {},
   "source": [
    "### ANSWER TO QUESTION THREE\n",
    "To answer this question we need to select two columns,\n",
    "\n",
    "the location and the new_cases for each countries \n",
    "\n",
    "and drill it down to a row of data for Bosnia and Herzegovina and Bulgaria as the \n",
    "\n",
    "data set contain data from year 2020 to 2021 \n"
   ]
  },
  {
   "cell_type": "code",
   "execution_count": 26,
   "id": "c5bbbd14",
   "metadata": {},
   "outputs": [
    {
     "data": {
      "text/plain": [
       "\n",
       "\tWelch Two Sample t-test\n",
       "\n",
       "data:  NEW_CASES by LOCATION\n",
       "t = -6.9511, df = 585.61, p-value = 9.701e-12\n",
       "alternative hypothesis: true difference in means between group Bosnia and Herzegovina and group Bulgaria is not equal to 0\n",
       "95 percent confidence interval:\n",
       " -634.6322 -355.0091\n",
       "sample estimates:\n",
       "mean in group Bosnia and Herzegovina               mean in group Bulgaria \n",
       "                            470.2867                             965.1074 \n"
      ]
     },
     "metadata": {},
     "output_type": "display_data"
    }
   ],
   "source": [
    "countries <- covid_Europe %>%select(LOCATION,NEW_CASES)%>%  \n",
    "filter(LOCATION =='Bosnia and Herzegovina'| LOCATION=='Bulgaria') %>% group_by(LOCATION)\n",
    " t.test(data=countries,NEW_CASES~LOCATION)\n"
   ]
  },
  {
   "cell_type": "markdown",
   "id": "6d7fa554",
   "metadata": {},
   "source": [
    "### ANSWER TO QUESTION FOUR\n",
    "To answer this question we need to select two columns,\n",
    "\n",
    "the location and the new_cases for each countries \n",
    "\n",
    "and drill it down to a row of data for Croatia and Cyprus as the \n",
    "\n",
    "data set contain data from year 2020 to 2021 \n",
    "\n",
    "\n",
    "Question five : is cases of Denmark less than that of Estonia?"
   ]
  },
  {
   "cell_type": "code",
   "execution_count": 27,
   "id": "82d98991",
   "metadata": {},
   "outputs": [
    {
     "data": {
      "text/plain": [
       "\n",
       "\tWelch Two Sample t-test\n",
       "\n",
       "data:  NEW_CASES by LOCATION\n",
       "t = 11.512, df = 466.22, p-value < 2.2e-16\n",
       "alternative hypothesis: true difference in means between group Croatia and group Cyprus is not equal to 0\n",
       "95 percent confidence interval:\n",
       " 510.2906 720.3666\n",
       "sample estimates:\n",
       "mean in group Croatia  mean in group Cyprus \n",
       "             770.7262              155.3976 \n"
      ]
     },
     "metadata": {},
     "output_type": "display_data"
    }
   ],
   "source": [
    "countries <- covid_Europe %>%select(LOCATION,NEW_CASES)%>%  \n",
    "filter(LOCATION =='Croatia'| LOCATION=='Cyprus') %>% group_by(LOCATION)\n",
    " t.test(data=countries,NEW_CASES~LOCATION)\n"
   ]
  },
  {
   "cell_type": "markdown",
   "id": "b3e6fe87",
   "metadata": {},
   "source": [
    "### ANSWER TO QUESTION FIVE\n",
    "To answer this question we need to select two columns,\n",
    "\n",
    "the location and the new_cases for each countries \n",
    "\n",
    "and drill it down to a row of data for Denmark and Estonia as the \n",
    "\n",
    "data set contain data from year 2020 to 2021 \n",
    "\n"
   ]
  },
  {
   "cell_type": "code",
   "execution_count": 28,
   "id": "6c4cf588",
   "metadata": {},
   "outputs": [
    {
     "data": {
      "text/plain": [
       "\n",
       "\tWelch Two Sample t-test\n",
       "\n",
       "data:  NEW_CASES by LOCATION\n",
       "t = 6.9692, df = 708.06, p-value = 7.304e-12\n",
       "alternative hypothesis: true difference in means between group Denmark and group Estonia is not equal to 0\n",
       "95 percent confidence interval:\n",
       " 200.4887 357.7516\n",
       "sample estimates:\n",
       "mean in group Denmark mean in group Estonia \n",
       "             562.2269              283.1067 \n"
      ]
     },
     "metadata": {},
     "output_type": "display_data"
    }
   ],
   "source": [
    "countries <- covid_Europe %>%select(LOCATION,NEW_CASES)%>%  \n",
    "filter(LOCATION =='Denmark'| LOCATION=='Estonia') %>% group_by(LOCATION)\n",
    " t.test(data=countries,NEW_CASES~LOCATION)\n"
   ]
  },
  {
   "cell_type": "markdown",
   "id": "1312e6b3",
   "metadata": {},
   "source": [
    "### NORMALIZING THE DATASET"
   ]
  },
  {
   "cell_type": "code",
   "execution_count": 29,
   "id": "e19112f2",
   "metadata": {},
   "outputs": [],
   "source": [
    "countries_norm <- covid_Europe  %>% mutate(TOTAL_CASES = (TOTAL_CASES - min(TOTAL_CASES))/(max(TOTAL_CASES) - min(TOTAL_CASES)))%>% \n",
    "mutate(TOTAL_DEATHS = (TOTAL_DEATHS - min(TOTAL_DEATHS))/(max(TOTAL_DEATHS) - min(TOTAL_DEATHS))) %>% \n",
    "mutate(POPULATION = (POPULATION - min(POPULATION))/(max(POPULATION) - min(POPULATION))) %>% \n",
    "mutate(NEW_CASES = (NEW_CASES - min(NEW_CASES))/(max(NEW_CASES) - min(NEW_CASES))) %>% \n",
    "mutate(NEW_DEATHS = (NEW_DEATHS - min(NEW_DEATHS))/(max(NEW_DEATHS) - min(NEW_DEATHS)))\n"
   ]
  },
  {
   "cell_type": "markdown",
   "id": "676f4eac",
   "metadata": {},
   "source": [
    "#### DESCRIPTIVE STATISTICS"
   ]
  },
  {
   "cell_type": "code",
   "execution_count": 30,
   "id": "11a9a9ab",
   "metadata": {
    "scrolled": false
   },
   "outputs": [
    {
     "data": {
      "image/png": "[encoded data removed]",
      "text/plain": [
       "plot without title"
      ]
     },
     "metadata": {
      "image/png": {
       "height": 420,
       "width": 420
      }
     },
     "output_type": "display_data"
    }
   ],
   "source": [
    "# IN OTHER TO SEE IF THE CASES CORRELATES WITH THE DEATHES\n",
    "\n",
    "ggplot(countries_norm, aes(x= NEW_DEATHS, y = NEW_CASES)) +\n",
    "geom_point() + labs(title = \"scatter plot of TOTAL_CASES VS TOTAL_DEATHS.\")"
   ]
  },
  {
   "cell_type": "markdown",
   "id": "f1806bd2",
   "metadata": {},
   "source": [
    "qplot(countries_norm$POPULATION, geom =\"histogram\", binwidth=30 )"
   ]
  },
  {
   "cell_type": "code",
   "execution_count": 31,
   "id": "58b0131d",
   "metadata": {},
   "outputs": [
    {
     "name": "stderr",
     "output_type": "stream",
     "text": [
      "`stat_bin()` using `bins = 30`. Pick better value with `binwidth`.\n",
      "\n",
      "Warning message:\n",
      "\"Removed 421 rows containing non-finite values (stat_bin).\"\n"
     ]
    },
    {
     "data": {
      "image/png": "[encoded data removed]",
      "text/plain": [
       "plot without title"
      ]
     },
     "metadata": {
      "image/png": {
       "height": 420,
       "width": 420
      }
     },
     "output_type": "display_data"
    }
   ],
   "source": [
    "\n",
    "qplot(log(countries_norm$POPULATION), geom =\"histogram\", xlab= \"POPULATION\", main = \"HISTOGRAM PLOT OF POPULATION\")"
   ]
  },
  {
   "cell_type": "code",
   "execution_count": 32,
   "id": "6fa6015c",
   "metadata": {},
   "outputs": [
    {
     "data": {
      "image/png": "[encoded data removed]",
      "text/plain": [
       "plot without title"
      ]
     },
     "metadata": {
      "image/png": {
       "height": 420,
       "width": 420
      }
     },
     "output_type": "display_data"
    }
   ],
   "source": [
    "# ASSUMING THAT THE TOTAL DEATH VARIABLE IS A NORMAL DISTRIBUTION,\n",
    "# IN OTHER TO VISUALLY VERIFY THIS ASSUMPTION,THE Q-Q PLOT IS USED\n",
    "qqplot(countries_norm$NEW_DEATHS,countries_norm$TOTAL_CASES)"
   ]
  },
  {
   "cell_type": "code",
   "execution_count": 33,
   "id": "bd821004",
   "metadata": {},
   "outputs": [],
   "source": [
    "model <- lm(TOTAL_DEATHS~TOTAL_CASES,data= countries_norm)"
   ]
  },
  {
   "cell_type": "code",
   "execution_count": 34,
   "id": "ea1ccaad",
   "metadata": {},
   "outputs": [
    {
     "data": {
      "text/plain": [
       "\n",
       "Call:\n",
       "lm(formula = TOTAL_DEATHS ~ TOTAL_CASES, data = countries_norm)\n",
       "\n",
       "Residuals:\n",
       "      Min        1Q    Median        3Q       Max \n",
       "-0.210947 -0.005885 -0.003798 -0.002530  0.264296 \n",
       "\n",
       "Coefficients:\n",
       "             Estimate Std. Error t value Pr(>|t|)    \n",
       "(Intercept) 0.0037945  0.0003108   12.21   <2e-16 ***\n",
       "TOTAL_CASES 1.0263660  0.0024864  412.79   <2e-16 ***\n",
       "---\n",
       "Signif. codes:  0 '***' 0.001 '**' 0.01 '*' 0.05 '.' 0.1 ' ' 1\n",
       "\n",
       "Residual standard error: 0.04051 on 19405 degrees of freedom\n",
       "Multiple R-squared:  0.8978,\tAdjusted R-squared:  0.8978 \n",
       "F-statistic: 1.704e+05 on 1 and 19405 DF,  p-value: < 2.2e-16\n"
      ]
     },
     "metadata": {},
     "output_type": "display_data"
    }
   ],
   "source": [
    "summary(model)"
   ]
  },
  {
   "cell_type": "code",
   "execution_count": 35,
   "id": "5fd5b740",
   "metadata": {},
   "outputs": [],
   "source": [
    "model_stad<-rstandard(model)"
   ]
  },
  {
   "cell_type": "code",
   "execution_count": 37,
   "id": "85e8c138",
   "metadata": {},
   "outputs": [],
   "source": [
    "model_stad_df<- cbind(countries_norm,model_stad)"
   ]
  },
  {
   "cell_type": "code",
   "execution_count": 39,
   "id": "9b13b4fb",
   "metadata": {},
   "outputs": [
    {
     "data": {
      "text/html": [
       "<table class=\"dataframe\">\n",
       "<caption>A data.frame: 6 × 12</caption>\n",
       "<thead>\n",
       "\t<tr><th></th><th scope=col>DATE</th><th scope=col>ISO_CODE</th><th scope=col>CONTINENT</th><th scope=col>LOCATION</th><th scope=col>TOTAL_CASES</th><th scope=col>TOTAL_DEATHS</th><th scope=col>NEW_CASES</th><th scope=col>NEW_DEATHS</th><th scope=col>TOTAL_VACCINATIONS</th><th scope=col>PEOPLE_VACCINATED</th><th scope=col>POPULATION</th><th scope=col>model_stad</th></tr>\n",
       "\t<tr><th></th><th scope=col>&lt;date&gt;</th><th scope=col>&lt;chr&gt;</th><th scope=col>&lt;chr&gt;</th><th scope=col>&lt;chr&gt;</th><th scope=col>&lt;dbl&gt;</th><th scope=col>&lt;dbl&gt;</th><th scope=col>&lt;dbl&gt;</th><th scope=col>&lt;dbl&gt;</th><th scope=col>&lt;dbl&gt;</th><th scope=col>&lt;dbl&gt;</th><th scope=col>&lt;dbl&gt;</th><th scope=col>&lt;dbl&gt;</th></tr>\n",
       "</thead>\n",
       "<tbody>\n",
       "\t<tr><th scope=row>1</th><td>2020-02-25</td><td>ALB</td><td>Europe</td><td>Albania</td><td>0</td><td>0</td><td>0</td><td>0</td><td>0</td><td>0</td><td>0.01971438</td><td>-0.09366429</td></tr>\n",
       "\t<tr><th scope=row>2</th><td>2020-02-26</td><td>ALB</td><td>Europe</td><td>Albania</td><td>0</td><td>0</td><td>0</td><td>0</td><td>0</td><td>0</td><td>0.01971438</td><td>-0.09366429</td></tr>\n",
       "\t<tr><th scope=row>3</th><td>2020-02-27</td><td>ALB</td><td>Europe</td><td>Albania</td><td>0</td><td>0</td><td>0</td><td>0</td><td>0</td><td>0</td><td>0.01971438</td><td>-0.09366429</td></tr>\n",
       "\t<tr><th scope=row>4</th><td>2020-02-28</td><td>ALB</td><td>Europe</td><td>Albania</td><td>0</td><td>0</td><td>0</td><td>0</td><td>0</td><td>0</td><td>0.01971438</td><td>-0.09366429</td></tr>\n",
       "\t<tr><th scope=row>5</th><td>2020-02-29</td><td>ALB</td><td>Europe</td><td>Albania</td><td>0</td><td>0</td><td>0</td><td>0</td><td>0</td><td>0</td><td>0.01971438</td><td>-0.09366429</td></tr>\n",
       "\t<tr><th scope=row>6</th><td>2020-03-01</td><td>ALB</td><td>Europe</td><td>Albania</td><td>0</td><td>0</td><td>0</td><td>0</td><td>0</td><td>0</td><td>0.01971438</td><td>-0.09366429</td></tr>\n",
       "</tbody>\n",
       "</table>\n"
      ],
      "text/latex": [
       "A data.frame: 6 × 12\n",
       "\\begin{tabular}{r|llllllllllll}\n",
       "  & DATE & ISO\\_CODE & CONTINENT & LOCATION & TOTAL\\_CASES & TOTAL\\_DEATHS & NEW\\_CASES & NEW\\_DEATHS & TOTAL\\_VACCINATIONS & PEOPLE\\_VACCINATED & POPULATION & model\\_stad\\\\\n",
       "  & <date> & <chr> & <chr> & <chr> & <dbl> & <dbl> & <dbl> & <dbl> & <dbl> & <dbl> & <dbl> & <dbl>\\\\\n",
       "\\hline\n",
       "\t1 & 2020-02-25 & ALB & Europe & Albania & 0 & 0 & 0 & 0 & 0 & 0 & 0.01971438 & -0.09366429\\\\\n",
       "\t2 & 2020-02-26 & ALB & Europe & Albania & 0 & 0 & 0 & 0 & 0 & 0 & 0.01971438 & -0.09366429\\\\\n",
       "\t3 & 2020-02-27 & ALB & Europe & Albania & 0 & 0 & 0 & 0 & 0 & 0 & 0.01971438 & -0.09366429\\\\\n",
       "\t4 & 2020-02-28 & ALB & Europe & Albania & 0 & 0 & 0 & 0 & 0 & 0 & 0.01971438 & -0.09366429\\\\\n",
       "\t5 & 2020-02-29 & ALB & Europe & Albania & 0 & 0 & 0 & 0 & 0 & 0 & 0.01971438 & -0.09366429\\\\\n",
       "\t6 & 2020-03-01 & ALB & Europe & Albania & 0 & 0 & 0 & 0 & 0 & 0 & 0.01971438 & -0.09366429\\\\\n",
       "\\end{tabular}\n"
      ],
      "text/markdown": [
       "\n",
       "A data.frame: 6 × 12\n",
       "\n",
       "| <!--/--> | DATE &lt;date&gt; | ISO_CODE &lt;chr&gt; | CONTINENT &lt;chr&gt; | LOCATION &lt;chr&gt; | TOTAL_CASES &lt;dbl&gt; | TOTAL_DEATHS &lt;dbl&gt; | NEW_CASES &lt;dbl&gt; | NEW_DEATHS &lt;dbl&gt; | TOTAL_VACCINATIONS &lt;dbl&gt; | PEOPLE_VACCINATED &lt;dbl&gt; | POPULATION &lt;dbl&gt; | model_stad &lt;dbl&gt; |\n",
       "|---|---|---|---|---|---|---|---|---|---|---|---|---|\n",
       "| 1 | 2020-02-25 | ALB | Europe | Albania | 0 | 0 | 0 | 0 | 0 | 0 | 0.01971438 | -0.09366429 |\n",
       "| 2 | 2020-02-26 | ALB | Europe | Albania | 0 | 0 | 0 | 0 | 0 | 0 | 0.01971438 | -0.09366429 |\n",
       "| 3 | 2020-02-27 | ALB | Europe | Albania | 0 | 0 | 0 | 0 | 0 | 0 | 0.01971438 | -0.09366429 |\n",
       "| 4 | 2020-02-28 | ALB | Europe | Albania | 0 | 0 | 0 | 0 | 0 | 0 | 0.01971438 | -0.09366429 |\n",
       "| 5 | 2020-02-29 | ALB | Europe | Albania | 0 | 0 | 0 | 0 | 0 | 0 | 0.01971438 | -0.09366429 |\n",
       "| 6 | 2020-03-01 | ALB | Europe | Albania | 0 | 0 | 0 | 0 | 0 | 0 | 0.01971438 | -0.09366429 |\n",
       "\n"
      ],
      "text/plain": [
       "  DATE       ISO_CODE CONTINENT LOCATION TOTAL_CASES TOTAL_DEATHS NEW_CASES\n",
       "1 2020-02-25 ALB      Europe    Albania  0           0            0        \n",
       "2 2020-02-26 ALB      Europe    Albania  0           0            0        \n",
       "3 2020-02-27 ALB      Europe    Albania  0           0            0        \n",
       "4 2020-02-28 ALB      Europe    Albania  0           0            0        \n",
       "5 2020-02-29 ALB      Europe    Albania  0           0            0        \n",
       "6 2020-03-01 ALB      Europe    Albania  0           0            0        \n",
       "  NEW_DEATHS TOTAL_VACCINATIONS PEOPLE_VACCINATED POPULATION model_stad \n",
       "1 0          0                  0                 0.01971438 -0.09366429\n",
       "2 0          0                  0                 0.01971438 -0.09366429\n",
       "3 0          0                  0                 0.01971438 -0.09366429\n",
       "4 0          0                  0                 0.01971438 -0.09366429\n",
       "5 0          0                  0                 0.01971438 -0.09366429\n",
       "6 0          0                  0                 0.01971438 -0.09366429"
      ]
     },
     "metadata": {},
     "output_type": "display_data"
    }
   ],
   "source": [
    "head(model_stad_df)"
   ]
  },
  {
   "cell_type": "code",
   "execution_count": 41,
   "id": "a2d7051b",
   "metadata": {},
   "outputs": [
    {
     "ename": "ERROR",
     "evalue": "Error in xy.coords(x, y, xlabel, ylabel, log): object 'model.stad_df' not found\n",
     "output_type": "error",
     "traceback": [
      "Error in xy.coords(x, y, xlabel, ylabel, log): object 'model.stad_df' not found\nTraceback:\n",
      "1. plot(countries_norm$NEW_CASES, model.stad_df)",
      "2. plot.default(countries_norm$NEW_CASES, model.stad_df)",
      "3. xy.coords(x, y, xlabel, ylabel, log)"
     ]
    }
   ],
   "source": [
    "plot(countries_norm$NEW_CASES,model.stad_df)\n",
    "abline(0,0)"
   ]
  },
  {
   "cell_type": "code",
   "execution_count": null,
   "id": "91f88c17",
   "metadata": {},
   "outputs": [],
   "source": []
  },
  {
   "cell_type": "code",
   "execution_count": null,
   "id": "afcda77b",
   "metadata": {},
   "outputs": [],
   "source": []
  }
 ],
 "metadata": {
  "kernelspec": {
   "display_name": "R",
   "language": "R",
   "name": "ir"
  },
  "language_info": {
   "codemirror_mode": "r",
   "file_extension": ".r",
   "mimetype": "text/x-r-source",
   "name": "R",
   "pygments_lexer": "r",
   "version": "4.1.3"
  }
 },
 "nbformat": 4,
 "nbformat_minor": 5
}
